{
  "cells": [
    {
      "cell_type": "code",
      "id": "initial_id",
      "metadata": {
        "collapsed": true,
        "id": "initial_id",
        "ExecuteTime": {
          "end_time": "2025-03-23T11:51:20.866117Z",
          "start_time": "2025-03-23T11:51:19.423856Z"
        }
      },
      "source": [
        "import pandas as pd\n",
        "from tensorflow.keras.models import Sequential\n",
        "from tensorflow.keras.layers import LSTM, Dense, Dropout\n",
        "from sklearn.preprocessing import MinMaxScaler, StandardScaler\n",
        "import numpy as np\n",
        "import matplotlib.pyplot as plt\n",
        "from keras.layers import BatchNormalization\n",
        "from keras.optimizers import Adam\n",
        "from keras.callbacks import EarlyStopping, ReduceLROnPlateau\n",
        "from sklearn.metrics import r2_score\n",
        "from tensorflow.python.keras.losses import mean_squared_error, mean_absolute_error\n",
        "from tensorflow.keras.layers import Conv1D, MaxPooling1D, LSTM, Dropout, BatchNormalization, Dense, TimeDistributed, Flatten\n",
        "from sklearn.feature_selection import mutual_info_regression"
      ],
      "outputs": [],
      "execution_count": 1
    },
    {
      "metadata": {
        "colab": {
          "base_uri": "https://localhost:8080/"
        },
        "id": "392bbda9d6ac80",
        "outputId": "ceb71d6b-187b-4b5b-98d1-9d3ae5a5e033"
      },
      "cell_type": "code",
      "source": [
        "df = pd.read_csv(\"data_for_model.csv\")\n",
        "df.shape"
      ],
      "id": "392bbda9d6ac80",
      "outputs": [
        {
          "output_type": "execute_result",
          "data": {
            "text/plain": [
              "(4018, 23)"
            ]
          },
          "metadata": {},
          "execution_count": 2
        }
      ],
      "execution_count": 2
    },
    {
      "metadata": {
        "colab": {
          "base_uri": "https://localhost:8080/",
          "height": 214
        },
        "id": "b16baa605200e1a",
        "outputId": "082c609e-12b4-416b-cd63-52f823bff129"
      },
      "cell_type": "code",
      "source": [
        "df.head(2)"
      ],
      "id": "b16baa605200e1a",
      "outputs": [
        {
          "output_type": "execute_result",
          "data": {
            "text/plain": [
              "   Unnamed: 0  Station1_CO  Station1_NO2  Station1_NOx  Station1_PM10  \\\n",
              "0  2014-01-01       1057.0          31.3          67.6           56.0   \n",
              "1  2014-01-02       1030.0          37.0          89.1           60.0   \n",
              "\n",
              "   Station1_SO2  Station2_CO  Station2_NO2  Station2_NOx  Station2_O3  ...  \\\n",
              "0          6.96       1121.0          19.9          27.5          9.3  ...   \n",
              "1         11.12       1212.0          25.9          44.4          9.9  ...   \n",
              "\n",
              "   humidity  precip  precipcover  cloudcover  windspeed  visibility  \\\n",
              "0      91.5     0.0          0.0        58.3        7.3         2.6   \n",
              "1      83.0     0.0          0.0        60.4       10.9         6.4   \n",
              "\n",
              "   is_heating_season  is_work_day  winddir_sin  winddir_cos  \n",
              "0                  1            1     0.979223    -0.202787  \n",
              "1                  1            1     0.685818    -0.727773  \n",
              "\n",
              "[2 rows x 23 columns]"
            ],
            "text/html": [
              "\n",
              "  <div id=\"df-4a86bd04-55e9-48f4-9a98-2177610b0343\" class=\"colab-df-container\">\n",
              "    <div>\n",
              "<style scoped>\n",
              "    .dataframe tbody tr th:only-of-type {\n",
              "        vertical-align: middle;\n",
              "    }\n",
              "\n",
              "    .dataframe tbody tr th {\n",
              "        vertical-align: top;\n",
              "    }\n",
              "\n",
              "    .dataframe thead th {\n",
              "        text-align: right;\n",
              "    }\n",
              "</style>\n",
              "<table border=\"1\" class=\"dataframe\">\n",
              "  <thead>\n",
              "    <tr style=\"text-align: right;\">\n",
              "      <th></th>\n",
              "      <th>Unnamed: 0</th>\n",
              "      <th>Station1_CO</th>\n",
              "      <th>Station1_NO2</th>\n",
              "      <th>Station1_NOx</th>\n",
              "      <th>Station1_PM10</th>\n",
              "      <th>Station1_SO2</th>\n",
              "      <th>Station2_CO</th>\n",
              "      <th>Station2_NO2</th>\n",
              "      <th>Station2_NOx</th>\n",
              "      <th>Station2_O3</th>\n",
              "      <th>...</th>\n",
              "      <th>humidity</th>\n",
              "      <th>precip</th>\n",
              "      <th>precipcover</th>\n",
              "      <th>cloudcover</th>\n",
              "      <th>windspeed</th>\n",
              "      <th>visibility</th>\n",
              "      <th>is_heating_season</th>\n",
              "      <th>is_work_day</th>\n",
              "      <th>winddir_sin</th>\n",
              "      <th>winddir_cos</th>\n",
              "    </tr>\n",
              "  </thead>\n",
              "  <tbody>\n",
              "    <tr>\n",
              "      <th>0</th>\n",
              "      <td>2014-01-01</td>\n",
              "      <td>1057.0</td>\n",
              "      <td>31.3</td>\n",
              "      <td>67.6</td>\n",
              "      <td>56.0</td>\n",
              "      <td>6.96</td>\n",
              "      <td>1121.0</td>\n",
              "      <td>19.9</td>\n",
              "      <td>27.5</td>\n",
              "      <td>9.3</td>\n",
              "      <td>...</td>\n",
              "      <td>91.5</td>\n",
              "      <td>0.0</td>\n",
              "      <td>0.0</td>\n",
              "      <td>58.3</td>\n",
              "      <td>7.3</td>\n",
              "      <td>2.6</td>\n",
              "      <td>1</td>\n",
              "      <td>1</td>\n",
              "      <td>0.979223</td>\n",
              "      <td>-0.202787</td>\n",
              "    </tr>\n",
              "    <tr>\n",
              "      <th>1</th>\n",
              "      <td>2014-01-02</td>\n",
              "      <td>1030.0</td>\n",
              "      <td>37.0</td>\n",
              "      <td>89.1</td>\n",
              "      <td>60.0</td>\n",
              "      <td>11.12</td>\n",
              "      <td>1212.0</td>\n",
              "      <td>25.9</td>\n",
              "      <td>44.4</td>\n",
              "      <td>9.9</td>\n",
              "      <td>...</td>\n",
              "      <td>83.0</td>\n",
              "      <td>0.0</td>\n",
              "      <td>0.0</td>\n",
              "      <td>60.4</td>\n",
              "      <td>10.9</td>\n",
              "      <td>6.4</td>\n",
              "      <td>1</td>\n",
              "      <td>1</td>\n",
              "      <td>0.685818</td>\n",
              "      <td>-0.727773</td>\n",
              "    </tr>\n",
              "  </tbody>\n",
              "</table>\n",
              "<p>2 rows × 23 columns</p>\n",
              "</div>\n",
              "    <div class=\"colab-df-buttons\">\n",
              "\n",
              "  <div class=\"colab-df-container\">\n",
              "    <button class=\"colab-df-convert\" onclick=\"convertToInteractive('df-4a86bd04-55e9-48f4-9a98-2177610b0343')\"\n",
              "            title=\"Convert this dataframe to an interactive table.\"\n",
              "            style=\"display:none;\">\n",
              "\n",
              "  <svg xmlns=\"http://www.w3.org/2000/svg\" height=\"24px\" viewBox=\"0 -960 960 960\">\n",
              "    <path d=\"M120-120v-720h720v720H120Zm60-500h600v-160H180v160Zm220 220h160v-160H400v160Zm0 220h160v-160H400v160ZM180-400h160v-160H180v160Zm440 0h160v-160H620v160ZM180-180h160v-160H180v160Zm440 0h160v-160H620v160Z\"/>\n",
              "  </svg>\n",
              "    </button>\n",
              "\n",
              "  <style>\n",
              "    .colab-df-container {\n",
              "      display:flex;\n",
              "      gap: 12px;\n",
              "    }\n",
              "\n",
              "    .colab-df-convert {\n",
              "      background-color: #E8F0FE;\n",
              "      border: none;\n",
              "      border-radius: 50%;\n",
              "      cursor: pointer;\n",
              "      display: none;\n",
              "      fill: #1967D2;\n",
              "      height: 32px;\n",
              "      padding: 0 0 0 0;\n",
              "      width: 32px;\n",
              "    }\n",
              "\n",
              "    .colab-df-convert:hover {\n",
              "      background-color: #E2EBFA;\n",
              "      box-shadow: 0px 1px 2px rgba(60, 64, 67, 0.3), 0px 1px 3px 1px rgba(60, 64, 67, 0.15);\n",
              "      fill: #174EA6;\n",
              "    }\n",
              "\n",
              "    .colab-df-buttons div {\n",
              "      margin-bottom: 4px;\n",
              "    }\n",
              "\n",
              "    [theme=dark] .colab-df-convert {\n",
              "      background-color: #3B4455;\n",
              "      fill: #D2E3FC;\n",
              "    }\n",
              "\n",
              "    [theme=dark] .colab-df-convert:hover {\n",
              "      background-color: #434B5C;\n",
              "      box-shadow: 0px 1px 3px 1px rgba(0, 0, 0, 0.15);\n",
              "      filter: drop-shadow(0px 1px 2px rgba(0, 0, 0, 0.3));\n",
              "      fill: #FFFFFF;\n",
              "    }\n",
              "  </style>\n",
              "\n",
              "    <script>\n",
              "      const buttonEl =\n",
              "        document.querySelector('#df-4a86bd04-55e9-48f4-9a98-2177610b0343 button.colab-df-convert');\n",
              "      buttonEl.style.display =\n",
              "        google.colab.kernel.accessAllowed ? 'block' : 'none';\n",
              "\n",
              "      async function convertToInteractive(key) {\n",
              "        const element = document.querySelector('#df-4a86bd04-55e9-48f4-9a98-2177610b0343');\n",
              "        const dataTable =\n",
              "          await google.colab.kernel.invokeFunction('convertToInteractive',\n",
              "                                                    [key], {});\n",
              "        if (!dataTable) return;\n",
              "\n",
              "        const docLinkHtml = 'Like what you see? Visit the ' +\n",
              "          '<a target=\"_blank\" href=https://colab.research.google.com/notebooks/data_table.ipynb>data table notebook</a>'\n",
              "          + ' to learn more about interactive tables.';\n",
              "        element.innerHTML = '';\n",
              "        dataTable['output_type'] = 'display_data';\n",
              "        await google.colab.output.renderOutput(dataTable, element);\n",
              "        const docLink = document.createElement('div');\n",
              "        docLink.innerHTML = docLinkHtml;\n",
              "        element.appendChild(docLink);\n",
              "      }\n",
              "    </script>\n",
              "  </div>\n",
              "\n",
              "\n",
              "<div id=\"df-4a7dfd55-7817-46c4-870d-90f66484c875\">\n",
              "  <button class=\"colab-df-quickchart\" onclick=\"quickchart('df-4a7dfd55-7817-46c4-870d-90f66484c875')\"\n",
              "            title=\"Suggest charts\"\n",
              "            style=\"display:none;\">\n",
              "\n",
              "<svg xmlns=\"http://www.w3.org/2000/svg\" height=\"24px\"viewBox=\"0 0 24 24\"\n",
              "     width=\"24px\">\n",
              "    <g>\n",
              "        <path d=\"M19 3H5c-1.1 0-2 .9-2 2v14c0 1.1.9 2 2 2h14c1.1 0 2-.9 2-2V5c0-1.1-.9-2-2-2zM9 17H7v-7h2v7zm4 0h-2V7h2v10zm4 0h-2v-4h2v4z\"/>\n",
              "    </g>\n",
              "</svg>\n",
              "  </button>\n",
              "\n",
              "<style>\n",
              "  .colab-df-quickchart {\n",
              "      --bg-color: #E8F0FE;\n",
              "      --fill-color: #1967D2;\n",
              "      --hover-bg-color: #E2EBFA;\n",
              "      --hover-fill-color: #174EA6;\n",
              "      --disabled-fill-color: #AAA;\n",
              "      --disabled-bg-color: #DDD;\n",
              "  }\n",
              "\n",
              "  [theme=dark] .colab-df-quickchart {\n",
              "      --bg-color: #3B4455;\n",
              "      --fill-color: #D2E3FC;\n",
              "      --hover-bg-color: #434B5C;\n",
              "      --hover-fill-color: #FFFFFF;\n",
              "      --disabled-bg-color: #3B4455;\n",
              "      --disabled-fill-color: #666;\n",
              "  }\n",
              "\n",
              "  .colab-df-quickchart {\n",
              "    background-color: var(--bg-color);\n",
              "    border: none;\n",
              "    border-radius: 50%;\n",
              "    cursor: pointer;\n",
              "    display: none;\n",
              "    fill: var(--fill-color);\n",
              "    height: 32px;\n",
              "    padding: 0;\n",
              "    width: 32px;\n",
              "  }\n",
              "\n",
              "  .colab-df-quickchart:hover {\n",
              "    background-color: var(--hover-bg-color);\n",
              "    box-shadow: 0 1px 2px rgba(60, 64, 67, 0.3), 0 1px 3px 1px rgba(60, 64, 67, 0.15);\n",
              "    fill: var(--button-hover-fill-color);\n",
              "  }\n",
              "\n",
              "  .colab-df-quickchart-complete:disabled,\n",
              "  .colab-df-quickchart-complete:disabled:hover {\n",
              "    background-color: var(--disabled-bg-color);\n",
              "    fill: var(--disabled-fill-color);\n",
              "    box-shadow: none;\n",
              "  }\n",
              "\n",
              "  .colab-df-spinner {\n",
              "    border: 2px solid var(--fill-color);\n",
              "    border-color: transparent;\n",
              "    border-bottom-color: var(--fill-color);\n",
              "    animation:\n",
              "      spin 1s steps(1) infinite;\n",
              "  }\n",
              "\n",
              "  @keyframes spin {\n",
              "    0% {\n",
              "      border-color: transparent;\n",
              "      border-bottom-color: var(--fill-color);\n",
              "      border-left-color: var(--fill-color);\n",
              "    }\n",
              "    20% {\n",
              "      border-color: transparent;\n",
              "      border-left-color: var(--fill-color);\n",
              "      border-top-color: var(--fill-color);\n",
              "    }\n",
              "    30% {\n",
              "      border-color: transparent;\n",
              "      border-left-color: var(--fill-color);\n",
              "      border-top-color: var(--fill-color);\n",
              "      border-right-color: var(--fill-color);\n",
              "    }\n",
              "    40% {\n",
              "      border-color: transparent;\n",
              "      border-right-color: var(--fill-color);\n",
              "      border-top-color: var(--fill-color);\n",
              "    }\n",
              "    60% {\n",
              "      border-color: transparent;\n",
              "      border-right-color: var(--fill-color);\n",
              "    }\n",
              "    80% {\n",
              "      border-color: transparent;\n",
              "      border-right-color: var(--fill-color);\n",
              "      border-bottom-color: var(--fill-color);\n",
              "    }\n",
              "    90% {\n",
              "      border-color: transparent;\n",
              "      border-bottom-color: var(--fill-color);\n",
              "    }\n",
              "  }\n",
              "</style>\n",
              "\n",
              "  <script>\n",
              "    async function quickchart(key) {\n",
              "      const quickchartButtonEl =\n",
              "        document.querySelector('#' + key + ' button');\n",
              "      quickchartButtonEl.disabled = true;  // To prevent multiple clicks.\n",
              "      quickchartButtonEl.classList.add('colab-df-spinner');\n",
              "      try {\n",
              "        const charts = await google.colab.kernel.invokeFunction(\n",
              "            'suggestCharts', [key], {});\n",
              "      } catch (error) {\n",
              "        console.error('Error during call to suggestCharts:', error);\n",
              "      }\n",
              "      quickchartButtonEl.classList.remove('colab-df-spinner');\n",
              "      quickchartButtonEl.classList.add('colab-df-quickchart-complete');\n",
              "    }\n",
              "    (() => {\n",
              "      let quickchartButtonEl =\n",
              "        document.querySelector('#df-4a7dfd55-7817-46c4-870d-90f66484c875 button');\n",
              "      quickchartButtonEl.style.display =\n",
              "        google.colab.kernel.accessAllowed ? 'block' : 'none';\n",
              "    })();\n",
              "  </script>\n",
              "</div>\n",
              "\n",
              "    </div>\n",
              "  </div>\n"
            ],
            "application/vnd.google.colaboratory.intrinsic+json": {
              "type": "dataframe",
              "variable_name": "df"
            }
          },
          "metadata": {},
          "execution_count": 3
        }
      ],
      "execution_count": 3
    },
    {
      "metadata": {
        "id": "6d3093ca7996d8d6"
      },
      "cell_type": "code",
      "source": [
        "df[\"Date\"] = df[\"Unnamed: 0\"]\n",
        "df.drop(\"Unnamed: 0\", axis=1, inplace=True)"
      ],
      "id": "6d3093ca7996d8d6",
      "outputs": [],
      "execution_count": 4
    },
    {
      "metadata": {
        "id": "410aa37e41a55fc2"
      },
      "cell_type": "code",
      "source": [
        "df.set_index(\"Date\", inplace=True)"
      ],
      "id": "410aa37e41a55fc2",
      "outputs": [],
      "execution_count": 5
    },
    {
      "metadata": {
        "colab": {
          "base_uri": "https://localhost:8080/",
          "height": 774
        },
        "id": "cbf99b1e439d9b29",
        "outputId": "dfbe5992-64d7-4767-c36c-d63da74f7122"
      },
      "cell_type": "code",
      "source": [
        "df.isna().sum()"
      ],
      "id": "cbf99b1e439d9b29",
      "outputs": [
        {
          "output_type": "execute_result",
          "data": {
            "text/plain": [
              "Station1_CO            0\n",
              "Station1_NO2           0\n",
              "Station1_NOx           0\n",
              "Station1_PM10          0\n",
              "Station1_SO2           0\n",
              "Station2_CO            0\n",
              "Station2_NO2           0\n",
              "Station2_NOx           0\n",
              "Station2_O3          158\n",
              "Station2_PM10          0\n",
              "Station2_SO2           0\n",
              "temp                   0\n",
              "humidity               0\n",
              "precip                 0\n",
              "precipcover            0\n",
              "cloudcover             0\n",
              "windspeed              0\n",
              "visibility             0\n",
              "is_heating_season      0\n",
              "is_work_day            0\n",
              "winddir_sin            0\n",
              "winddir_cos            0\n",
              "dtype: int64"
            ],
            "text/html": [
              "<div>\n",
              "<style scoped>\n",
              "    .dataframe tbody tr th:only-of-type {\n",
              "        vertical-align: middle;\n",
              "    }\n",
              "\n",
              "    .dataframe tbody tr th {\n",
              "        vertical-align: top;\n",
              "    }\n",
              "\n",
              "    .dataframe thead th {\n",
              "        text-align: right;\n",
              "    }\n",
              "</style>\n",
              "<table border=\"1\" class=\"dataframe\">\n",
              "  <thead>\n",
              "    <tr style=\"text-align: right;\">\n",
              "      <th></th>\n",
              "      <th>0</th>\n",
              "    </tr>\n",
              "  </thead>\n",
              "  <tbody>\n",
              "    <tr>\n",
              "      <th>Station1_CO</th>\n",
              "      <td>0</td>\n",
              "    </tr>\n",
              "    <tr>\n",
              "      <th>Station1_NO2</th>\n",
              "      <td>0</td>\n",
              "    </tr>\n",
              "    <tr>\n",
              "      <th>Station1_NOx</th>\n",
              "      <td>0</td>\n",
              "    </tr>\n",
              "    <tr>\n",
              "      <th>Station1_PM10</th>\n",
              "      <td>0</td>\n",
              "    </tr>\n",
              "    <tr>\n",
              "      <th>Station1_SO2</th>\n",
              "      <td>0</td>\n",
              "    </tr>\n",
              "    <tr>\n",
              "      <th>Station2_CO</th>\n",
              "      <td>0</td>\n",
              "    </tr>\n",
              "    <tr>\n",
              "      <th>Station2_NO2</th>\n",
              "      <td>0</td>\n",
              "    </tr>\n",
              "    <tr>\n",
              "      <th>Station2_NOx</th>\n",
              "      <td>0</td>\n",
              "    </tr>\n",
              "    <tr>\n",
              "      <th>Station2_O3</th>\n",
              "      <td>158</td>\n",
              "    </tr>\n",
              "    <tr>\n",
              "      <th>Station2_PM10</th>\n",
              "      <td>0</td>\n",
              "    </tr>\n",
              "    <tr>\n",
              "      <th>Station2_SO2</th>\n",
              "      <td>0</td>\n",
              "    </tr>\n",
              "    <tr>\n",
              "      <th>temp</th>\n",
              "      <td>0</td>\n",
              "    </tr>\n",
              "    <tr>\n",
              "      <th>humidity</th>\n",
              "      <td>0</td>\n",
              "    </tr>\n",
              "    <tr>\n",
              "      <th>precip</th>\n",
              "      <td>0</td>\n",
              "    </tr>\n",
              "    <tr>\n",
              "      <th>precipcover</th>\n",
              "      <td>0</td>\n",
              "    </tr>\n",
              "    <tr>\n",
              "      <th>cloudcover</th>\n",
              "      <td>0</td>\n",
              "    </tr>\n",
              "    <tr>\n",
              "      <th>windspeed</th>\n",
              "      <td>0</td>\n",
              "    </tr>\n",
              "    <tr>\n",
              "      <th>visibility</th>\n",
              "      <td>0</td>\n",
              "    </tr>\n",
              "    <tr>\n",
              "      <th>is_heating_season</th>\n",
              "      <td>0</td>\n",
              "    </tr>\n",
              "    <tr>\n",
              "      <th>is_work_day</th>\n",
              "      <td>0</td>\n",
              "    </tr>\n",
              "    <tr>\n",
              "      <th>winddir_sin</th>\n",
              "      <td>0</td>\n",
              "    </tr>\n",
              "    <tr>\n",
              "      <th>winddir_cos</th>\n",
              "      <td>0</td>\n",
              "    </tr>\n",
              "  </tbody>\n",
              "</table>\n",
              "</div><br><label><b>dtype:</b> int64</label>"
            ]
          },
          "metadata": {},
          "execution_count": 6
        }
      ],
      "execution_count": 6
    },
    {
      "metadata": {
        "id": "e542329ba1f838cb"
      },
      "cell_type": "code",
      "source": [
        "features = [col for col in df.columns if col != \"Station2_PM10\"]\n",
        "target = \"Station2_PM10\""
      ],
      "id": "e542329ba1f838cb",
      "outputs": [],
      "execution_count": 7
    },
    {
      "metadata": {
        "colab": {
          "base_uri": "https://localhost:8080/"
        },
        "id": "ff05420f17d9b8ea",
        "outputId": "d2e5f62a-c31d-48aa-df0c-75dccfb2305e",
        "ExecuteTime": {
          "end_time": "2025-03-23T11:38:09.508065Z",
          "start_time": "2025-03-23T11:38:09.295307Z"
        }
      },
      "cell_type": "code",
      "source": [
        "print(df.isnull().sum())\n",
        "df.fillna(method=\"ffill\", inplace=True)"
      ],
      "id": "ff05420f17d9b8ea",
      "outputs": [
        {
          "output_type": "stream",
          "name": "stdout",
          "text": [
            "Station1_CO            0\n",
            "Station1_NO2           0\n",
            "Station1_NOx           0\n",
            "Station1_PM10          0\n",
            "Station1_SO2           0\n",
            "Station2_CO            0\n",
            "Station2_NO2           0\n",
            "Station2_NOx           0\n",
            "Station2_O3          158\n",
            "Station2_PM10          0\n",
            "Station2_SO2           0\n",
            "temp                   0\n",
            "humidity               0\n",
            "precip                 0\n",
            "precipcover            0\n",
            "cloudcover             0\n",
            "windspeed              0\n",
            "visibility             0\n",
            "is_heating_season      0\n",
            "is_work_day            0\n",
            "winddir_sin            0\n",
            "winddir_cos            0\n",
            "dtype: int64\n"
          ]
        },
        {
          "output_type": "stream",
          "name": "stderr",
          "text": [
            "<ipython-input-8-f8a952a8f4c3>:2: FutureWarning: DataFrame.fillna with 'method' is deprecated and will raise in a future version. Use obj.ffill() or obj.bfill() instead.\n",
            "  df.fillna(method=\"ffill\", inplace=True)\n"
          ]
        }
      ],
      "execution_count": 8
    },
    {
      "cell_type": "code",
      "source": [
        "print(df.isnull().sum())"
      ],
      "metadata": {
        "colab": {
          "base_uri": "https://localhost:8080/"
        },
        "id": "34FhDLoVJTrL",
        "outputId": "a1f375f0-14d3-4ee1-dab5-e2edb37c0942"
      },
      "id": "34FhDLoVJTrL",
      "execution_count": 9,
      "outputs": [
        {
          "output_type": "stream",
          "name": "stdout",
          "text": [
            "Station1_CO          0\n",
            "Station1_NO2         0\n",
            "Station1_NOx         0\n",
            "Station1_PM10        0\n",
            "Station1_SO2         0\n",
            "Station2_CO          0\n",
            "Station2_NO2         0\n",
            "Station2_NOx         0\n",
            "Station2_O3          0\n",
            "Station2_PM10        0\n",
            "Station2_SO2         0\n",
            "temp                 0\n",
            "humidity             0\n",
            "precip               0\n",
            "precipcover          0\n",
            "cloudcover           0\n",
            "windspeed            0\n",
            "visibility           0\n",
            "is_heating_season    0\n",
            "is_work_day          0\n",
            "winddir_sin          0\n",
            "winddir_cos          0\n",
            "dtype: int64\n"
          ]
        }
      ]
    },
    {
      "cell_type": "code",
      "source": [
        "# importance = mutual_info_regression(X_train_scaled.reshape(X_train_scaled.shape[0], -1), y_train)\n",
        "# important_features = [features[i] for i in range(len(importance)) if importance[i] > threshold]"
      ],
      "metadata": {
        "id": "okaM5BZLla7h"
      },
      "id": "okaM5BZLla7h",
      "execution_count": 10,
      "outputs": []
    },
    {
      "metadata": {
        "id": "62ddf5d4edded382"
      },
      "cell_type": "code",
      "source": [
        "scaler_features = StandardScaler()\n",
        "scaler_target = StandardScaler()\n",
        "df_features_scaled = scaler_features.fit_transform(df[features])\n",
        "df_target_scaled = scaler_target.fit_transform(df[[target]])\n",
        "df_scaled = np.hstack((df_features_scaled, df_target_scaled))"
      ],
      "id": "62ddf5d4edded382",
      "outputs": [],
      "execution_count": 11
    },
    {
      "metadata": {
        "id": "747e9fce553e04ee"
      },
      "cell_type": "code",
      "source": [
        "def create_sequences(data, target_index, seq_length):\n",
        "    X, y = [], []\n",
        "    for i in range(len(data) - seq_length):\n",
        "        X.append(data[i:i+seq_length])\n",
        "        y.append(data[i+seq_length, target_index])\n",
        "    return np.array(X), np.array(y)"
      ],
      "id": "747e9fce553e04ee",
      "outputs": [],
      "execution_count": 12
    },
    {
      "metadata": {
        "id": "aa01229d3dbf46cd"
      },
      "cell_type": "code",
      "source": [
        "SEQ_LENGTH = 24\n",
        "\n",
        "X, y = create_sequences(df_scaled, target_index=len(features), seq_length=SEQ_LENGTH)\n",
        "\n",
        "split_idx = int(0.8 * len(X))\n",
        "X_train, X_test = X[:split_idx], X[split_idx:]\n",
        "y_train, y_test = y[:split_idx], y[split_idx:]"
      ],
      "id": "aa01229d3dbf46cd",
      "outputs": [],
      "execution_count": 13
    },
    {
      "metadata": {
        "id": "67ca84da9b21ee58",
        "colab": {
          "base_uri": "https://localhost:8080/"
        },
        "outputId": "a097133e-1b5f-4c34-9860-9fecfeca0b31"
      },
      "cell_type": "code",
      "source": [
        "from tensorflow.keras.regularizers import l2\n",
        "\n",
        "model = Sequential([\n",
        "    Conv1D(filters=256, kernel_size=5, activation='relu', input_shape=(SEQ_LENGTH, X.shape[2])),\n",
        "    MaxPooling1D(pool_size=2),\n",
        "    Conv1D(filters=64, kernel_size=3, activation='relu'),\n",
        "    MaxPooling1D(pool_size=2),\n",
        "\n",
        "    LSTM(200, return_sequences=True, recurrent_dropout=0.2, kernel_regularizer=l2(0.001)),\n",
        "    Dropout(0.2),\n",
        "    BatchNormalization(),\n",
        "\n",
        "    LSTM(50, return_sequences=False, recurrent_dropout=0.2, kernel_regularizer=l2(0.001)),\n",
        "    Dropout(0.2),\n",
        "    BatchNormalization(),\n",
        "\n",
        "    Dense(50, activation='relu'),\n",
        "    Dense(25, activation='relu'),\n",
        "    Dense(1)\n",
        "])"
      ],
      "id": "67ca84da9b21ee58",
      "outputs": [
        {
          "output_type": "stream",
          "name": "stderr",
          "text": [
            "/usr/local/lib/python3.11/dist-packages/keras/src/layers/convolutional/base_conv.py:107: UserWarning: Do not pass an `input_shape`/`input_dim` argument to a layer. When using Sequential models, prefer using an `Input(shape)` object as the first layer in the model instead.\n",
            "  super().__init__(activity_regularizer=activity_regularizer, **kwargs)\n"
          ]
        }
      ],
      "execution_count": 14
    },
    {
      "cell_type": "code",
      "source": [
        "optimizer = Adam(learning_rate=0.001)\n",
        "model.compile(optimizer=optimizer, loss='mae', metrics=['mae'])"
      ],
      "metadata": {
        "id": "5MjdxdMWL7Ck"
      },
      "id": "5MjdxdMWL7Ck",
      "execution_count": 15,
      "outputs": []
    },
    {
      "metadata": {
        "id": "76a8ea109b51f30c"
      },
      "cell_type": "code",
      "source": [
        "early_stopping = EarlyStopping(monitor='val_loss', patience=10, restore_best_weights=True)\n",
        "reduce_lr = ReduceLROnPlateau(monitor='val_loss', factor=0.5, patience=3, min_lr=1e-6)"
      ],
      "id": "76a8ea109b51f30c",
      "outputs": [],
      "execution_count": 16
    },
    {
      "metadata": {
        "id": "e5a8bf543d67d3b8",
        "colab": {
          "base_uri": "https://localhost:8080/"
        },
        "outputId": "6a42be59-3d81-46cb-dac3-39c1276d06d0"
      },
      "cell_type": "code",
      "source": [
        "history = model.fit(X_train, y_train, epochs=50, callbacks=[early_stopping, reduce_lr])"
      ],
      "id": "e5a8bf543d67d3b8",
      "outputs": [
        {
          "metadata": {
            "tags": null
          },
          "name": "stdout",
          "output_type": "stream",
          "text": [
            "Epoch 1/50\n",
            "\u001b[1m100/100\u001b[0m \u001b[32m━━━━━━━━━━━━━━━━━━━━\u001b[0m\u001b[37m\u001b[0m \u001b[1m22s\u001b[0m 39ms/step - loss: 1.0294 - mae: 0.7256 - learning_rate: 0.0010\n",
            "Epoch 2/50\n",
            "\u001b[1m  2/100\u001b[0m \u001b[37m━━━━━━━━━━━━━━━━━━━━\u001b[0m \u001b[1m7s\u001b[0m 73ms/step - loss: 1.1238 - mae: 0.8570"
          ]
        },
        {
          "metadata": {
            "tags": null
          },
          "name": "stderr",
          "output_type": "stream",
          "text": [
            "/usr/local/lib/python3.11/dist-packages/keras/src/callbacks/early_stopping.py:153: UserWarning: Early stopping conditioned on metric `val_loss` which is not available. Available metrics are: loss,mae\n",
            "  current = self.get_monitor_value(logs)\n",
            "/usr/local/lib/python3.11/dist-packages/keras/src/callbacks/callback_list.py:145: UserWarning: Learning rate reduction is conditioned on metric `val_loss` which is not available. Available metrics are: loss,mae,learning_rate.\n",
            "  callback.on_epoch_end(epoch, logs)\n"
          ]
        },
        {
          "output_type": "stream",
          "name": "stdout",
          "text": [
            "\u001b[1m100/100\u001b[0m \u001b[32m━━━━━━━━━━━━━━━━━━━━\u001b[0m\u001b[37m\u001b[0m \u001b[1m3s\u001b[0m 33ms/step - loss: 0.9237 - mae: 0.6672 - learning_rate: 0.0010\n",
            "Epoch 3/50\n",
            "\u001b[1m100/100\u001b[0m \u001b[32m━━━━━━━━━━━━━━━━━━━━\u001b[0m\u001b[37m\u001b[0m \u001b[1m6s\u001b[0m 44ms/step - loss: 0.8427 - mae: 0.6223 - learning_rate: 0.0010\n",
            "Epoch 4/50\n",
            "\u001b[1m100/100\u001b[0m \u001b[32m━━━━━━━━━━━━━━━━━━━━\u001b[0m\u001b[37m\u001b[0m \u001b[1m4s\u001b[0m 32ms/step - loss: 0.8265 - mae: 0.6339 - learning_rate: 0.0010\n",
            "Epoch 5/50\n",
            "\u001b[1m100/100\u001b[0m \u001b[32m━━━━━━━━━━━━━━━━━━━━\u001b[0m\u001b[37m\u001b[0m \u001b[1m3s\u001b[0m 33ms/step - loss: 0.7527 - mae: 0.5821 - learning_rate: 0.0010\n",
            "Epoch 6/50\n",
            "\u001b[1m100/100\u001b[0m \u001b[32m━━━━━━━━━━━━━━━━━━━━\u001b[0m\u001b[37m\u001b[0m \u001b[1m6s\u001b[0m 44ms/step - loss: 0.7140 - mae: 0.5612 - learning_rate: 0.0010\n",
            "Epoch 7/50\n",
            "\u001b[1m100/100\u001b[0m \u001b[32m━━━━━━━━━━━━━━━━━━━━\u001b[0m\u001b[37m\u001b[0m \u001b[1m4s\u001b[0m 32ms/step - loss: 0.6706 - mae: 0.5334 - learning_rate: 0.0010\n",
            "Epoch 8/50\n",
            "\u001b[1m100/100\u001b[0m \u001b[32m━━━━━━━━━━━━━━━━━━━━\u001b[0m\u001b[37m\u001b[0m \u001b[1m3s\u001b[0m 32ms/step - loss: 0.6519 - mae: 0.5273 - learning_rate: 0.0010\n",
            "Epoch 9/50\n",
            "\u001b[1m100/100\u001b[0m \u001b[32m━━━━━━━━━━━━━━━━━━━━\u001b[0m\u001b[37m\u001b[0m \u001b[1m6s\u001b[0m 38ms/step - loss: 0.6096 - mae: 0.4971 - learning_rate: 0.0010\n",
            "Epoch 10/50\n",
            "\u001b[1m100/100\u001b[0m \u001b[32m━━━━━━━━━━━━━━━━━━━━\u001b[0m\u001b[37m\u001b[0m \u001b[1m4s\u001b[0m 32ms/step - loss: 0.5836 - mae: 0.4813 - learning_rate: 0.0010\n",
            "Epoch 11/50\n",
            "\u001b[1m100/100\u001b[0m \u001b[32m━━━━━━━━━━━━━━━━━━━━\u001b[0m\u001b[37m\u001b[0m \u001b[1m3s\u001b[0m 34ms/step - loss: 0.5644 - mae: 0.4701 - learning_rate: 0.0010\n",
            "Epoch 12/50\n",
            "\u001b[1m100/100\u001b[0m \u001b[32m━━━━━━━━━━━━━━━━━━━━\u001b[0m\u001b[37m\u001b[0m \u001b[1m4s\u001b[0m 41ms/step - loss: 0.5415 - mae: 0.4542 - learning_rate: 0.0010\n",
            "Epoch 13/50\n",
            "\u001b[1m100/100\u001b[0m \u001b[32m━━━━━━━━━━━━━━━━━━━━\u001b[0m\u001b[37m\u001b[0m \u001b[1m3s\u001b[0m 32ms/step - loss: 0.5406 - mae: 0.4590 - learning_rate: 0.0010\n",
            "Epoch 14/50\n",
            "\u001b[1m100/100\u001b[0m \u001b[32m━━━━━━━━━━━━━━━━━━━━\u001b[0m\u001b[37m\u001b[0m \u001b[1m3s\u001b[0m 32ms/step - loss: 0.5124 - mae: 0.4363 - learning_rate: 0.0010\n",
            "Epoch 15/50\n",
            "\u001b[1m100/100\u001b[0m \u001b[32m━━━━━━━━━━━━━━━━━━━━\u001b[0m\u001b[37m\u001b[0m \u001b[1m4s\u001b[0m 44ms/step - loss: 0.4937 - mae: 0.4232 - learning_rate: 0.0010\n",
            "Epoch 16/50\n",
            "\u001b[1m100/100\u001b[0m \u001b[32m━━━━━━━━━━━━━━━━━━━━\u001b[0m\u001b[37m\u001b[0m \u001b[1m3s\u001b[0m 32ms/step - loss: 0.4766 - mae: 0.4103 - learning_rate: 0.0010\n",
            "Epoch 17/50\n",
            "\u001b[1m100/100\u001b[0m \u001b[32m━━━━━━━━━━━━━━━━━━━━\u001b[0m\u001b[37m\u001b[0m \u001b[1m5s\u001b[0m 32ms/step - loss: 0.4713 - mae: 0.4092 - learning_rate: 0.0010\n",
            "Epoch 18/50\n",
            "\u001b[1m100/100\u001b[0m \u001b[32m━━━━━━━━━━━━━━━━━━━━\u001b[0m\u001b[37m\u001b[0m \u001b[1m5s\u001b[0m 34ms/step - loss: 0.4537 - mae: 0.3953 - learning_rate: 0.0010\n",
            "Epoch 19/50\n",
            "\u001b[1m100/100\u001b[0m \u001b[32m━━━━━━━━━━━━━━━━━━━━\u001b[0m\u001b[37m\u001b[0m \u001b[1m5s\u001b[0m 32ms/step - loss: 0.4243 - mae: 0.3690 - learning_rate: 0.0010\n",
            "Epoch 20/50\n",
            "\u001b[1m100/100\u001b[0m \u001b[32m━━━━━━━━━━━━━━━━━━━━\u001b[0m\u001b[37m\u001b[0m \u001b[1m7s\u001b[0m 55ms/step - loss: 0.4269 - mae: 0.3743 - learning_rate: 0.0010\n",
            "Epoch 21/50\n",
            "\u001b[1m100/100\u001b[0m \u001b[32m━━━━━━━━━━━━━━━━━━━━\u001b[0m\u001b[37m\u001b[0m \u001b[1m9s\u001b[0m 42ms/step - loss: 0.4027 - mae: 0.3530 - learning_rate: 0.0010\n",
            "Epoch 22/50\n",
            "\u001b[1m100/100\u001b[0m \u001b[32m━━━━━━━━━━━━━━━━━━━━\u001b[0m\u001b[37m\u001b[0m \u001b[1m3s\u001b[0m 34ms/step - loss: 0.4054 - mae: 0.3580 - learning_rate: 0.0010\n",
            "Epoch 23/50\n",
            "\u001b[1m100/100\u001b[0m \u001b[32m━━━━━━━━━━━━━━━━━━━━\u001b[0m\u001b[37m\u001b[0m \u001b[1m3s\u001b[0m 32ms/step - loss: 0.4002 - mae: 0.3542 - learning_rate: 0.0010\n",
            "Epoch 24/50\n",
            "\u001b[1m100/100\u001b[0m \u001b[32m━━━━━━━━━━━━━━━━━━━━\u001b[0m\u001b[37m\u001b[0m \u001b[1m3s\u001b[0m 32ms/step - loss: 0.3931 - mae: 0.3487 - learning_rate: 0.0010\n",
            "Epoch 25/50\n",
            "\u001b[1m100/100\u001b[0m \u001b[32m━━━━━━━━━━━━━━━━━━━━\u001b[0m\u001b[37m\u001b[0m \u001b[1m5s\u001b[0m 32ms/step - loss: 0.3889 - mae: 0.3464 - learning_rate: 0.0010\n",
            "Epoch 26/50\n",
            "\u001b[1m100/100\u001b[0m \u001b[32m━━━━━━━━━━━━━━━━━━━━\u001b[0m\u001b[37m\u001b[0m \u001b[1m5s\u001b[0m 32ms/step - loss: 0.3662 - mae: 0.3250 - learning_rate: 0.0010\n",
            "Epoch 27/50\n",
            "\u001b[1m100/100\u001b[0m \u001b[32m━━━━━━━━━━━━━━━━━━━━\u001b[0m\u001b[37m\u001b[0m \u001b[1m6s\u001b[0m 42ms/step - loss: 0.3726 - mae: 0.3325 - learning_rate: 0.0010\n",
            "Epoch 28/50\n",
            "\u001b[1m100/100\u001b[0m \u001b[32m━━━━━━━━━━━━━━━━━━━━\u001b[0m\u001b[37m\u001b[0m \u001b[1m3s\u001b[0m 33ms/step - loss: 0.3700 - mae: 0.3310 - learning_rate: 0.0010\n",
            "Epoch 29/50\n",
            "\u001b[1m100/100\u001b[0m \u001b[32m━━━━━━━━━━━━━━━━━━━━\u001b[0m\u001b[37m\u001b[0m \u001b[1m3s\u001b[0m 32ms/step - loss: 0.3590 - mae: 0.3213 - learning_rate: 0.0010\n",
            "Epoch 30/50\n",
            "\u001b[1m100/100\u001b[0m \u001b[32m━━━━━━━━━━━━━━━━━━━━\u001b[0m\u001b[37m\u001b[0m \u001b[1m4s\u001b[0m 43ms/step - loss: 0.3592 - mae: 0.3229 - learning_rate: 0.0010\n",
            "Epoch 31/50\n",
            "\u001b[1m100/100\u001b[0m \u001b[32m━━━━━━━━━━━━━━━━━━━━\u001b[0m\u001b[37m\u001b[0m \u001b[1m4s\u001b[0m 32ms/step - loss: 0.3416 - mae: 0.3064 - learning_rate: 0.0010\n",
            "Epoch 32/50\n",
            "\u001b[1m100/100\u001b[0m \u001b[32m━━━━━━━━━━━━━━━━━━━━\u001b[0m\u001b[37m\u001b[0m \u001b[1m3s\u001b[0m 32ms/step - loss: 0.3379 - mae: 0.3032 - learning_rate: 0.0010\n",
            "Epoch 33/50\n",
            "\u001b[1m100/100\u001b[0m \u001b[32m━━━━━━━━━━━━━━━━━━━━\u001b[0m\u001b[37m\u001b[0m \u001b[1m4s\u001b[0m 44ms/step - loss: 0.3508 - mae: 0.3165 - learning_rate: 0.0010\n",
            "Epoch 34/50\n",
            "\u001b[1m100/100\u001b[0m \u001b[32m━━━━━━━━━━━━━━━━━━━━\u001b[0m\u001b[37m\u001b[0m \u001b[1m3s\u001b[0m 32ms/step - loss: 0.3209 - mae: 0.2868 - learning_rate: 0.0010\n",
            "Epoch 35/50\n",
            "\u001b[1m100/100\u001b[0m \u001b[32m━━━━━━━━━━━━━━━━━━━━\u001b[0m\u001b[37m\u001b[0m \u001b[1m5s\u001b[0m 33ms/step - loss: 0.3186 - mae: 0.2856 - learning_rate: 0.0010\n",
            "Epoch 36/50\n",
            "\u001b[1m100/100\u001b[0m \u001b[32m━━━━━━━━━━━━━━━━━━━━\u001b[0m\u001b[37m\u001b[0m \u001b[1m4s\u001b[0m 44ms/step - loss: 0.3222 - mae: 0.2900 - learning_rate: 0.0010\n",
            "Epoch 37/50\n",
            "\u001b[1m100/100\u001b[0m \u001b[32m━━━━━━━━━━━━━━━━━━━━\u001b[0m\u001b[37m\u001b[0m \u001b[1m3s\u001b[0m 32ms/step - loss: 0.2989 - mae: 0.2671 - learning_rate: 0.0010\n",
            "Epoch 38/50\n",
            "\u001b[1m100/100\u001b[0m \u001b[32m━━━━━━━━━━━━━━━━━━━━\u001b[0m\u001b[37m\u001b[0m \u001b[1m3s\u001b[0m 32ms/step - loss: 0.3059 - mae: 0.2740 - learning_rate: 0.0010\n",
            "Epoch 39/50\n",
            "\u001b[1m100/100\u001b[0m \u001b[32m━━━━━━━━━━━━━━━━━━━━\u001b[0m\u001b[37m\u001b[0m \u001b[1m6s\u001b[0m 44ms/step - loss: 0.3156 - mae: 0.2833 - learning_rate: 0.0010\n",
            "Epoch 40/50\n",
            "\u001b[1m100/100\u001b[0m \u001b[32m━━━━━━━━━━━━━━━━━━━━\u001b[0m\u001b[37m\u001b[0m \u001b[1m4s\u001b[0m 32ms/step - loss: 0.3010 - mae: 0.2686 - learning_rate: 0.0010\n",
            "Epoch 41/50\n",
            "\u001b[1m100/100\u001b[0m \u001b[32m━━━━━━━━━━━━━━━━━━━━\u001b[0m\u001b[37m\u001b[0m \u001b[1m3s\u001b[0m 32ms/step - loss: 0.3046 - mae: 0.2726 - learning_rate: 0.0010\n",
            "Epoch 42/50\n",
            "\u001b[1m100/100\u001b[0m \u001b[32m━━━━━━━━━━━━━━━━━━━━\u001b[0m\u001b[37m\u001b[0m \u001b[1m4s\u001b[0m 43ms/step - loss: 0.3145 - mae: 0.2830 - learning_rate: 0.0010\n",
            "Epoch 43/50\n",
            "\u001b[1m100/100\u001b[0m \u001b[32m━━━━━━━━━━━━━━━━━━━━\u001b[0m\u001b[37m\u001b[0m \u001b[1m3s\u001b[0m 34ms/step - loss: 0.2827 - mae: 0.2514 - learning_rate: 0.0010\n",
            "Epoch 44/50\n",
            "\u001b[1m100/100\u001b[0m \u001b[32m━━━━━━━━━━━━━━━━━━━━\u001b[0m\u001b[37m\u001b[0m \u001b[1m3s\u001b[0m 32ms/step - loss: 0.3014 - mae: 0.2694 - learning_rate: 0.0010\n",
            "Epoch 45/50\n",
            "\u001b[1m100/100\u001b[0m \u001b[32m━━━━━━━━━━━━━━━━━━━━\u001b[0m\u001b[37m\u001b[0m \u001b[1m3s\u001b[0m 33ms/step - loss: 0.2996 - mae: 0.2681 - learning_rate: 0.0010\n",
            "Epoch 46/50\n",
            "\u001b[1m100/100\u001b[0m \u001b[32m━━━━━━━━━━━━━━━━━━━━\u001b[0m\u001b[37m\u001b[0m \u001b[1m4s\u001b[0m 44ms/step - loss: 0.2940 - mae: 0.2626 - learning_rate: 0.0010\n",
            "Epoch 47/50\n",
            "\u001b[1m100/100\u001b[0m \u001b[32m━━━━━━━━━━━━━━━━━━━━\u001b[0m\u001b[37m\u001b[0m \u001b[1m4s\u001b[0m 34ms/step - loss: 0.2759 - mae: 0.2449 - learning_rate: 0.0010\n",
            "Epoch 48/50\n",
            "\u001b[1m100/100\u001b[0m \u001b[32m━━━━━━━━━━━━━━━━━━━━\u001b[0m\u001b[37m\u001b[0m \u001b[1m3s\u001b[0m 32ms/step - loss: 0.2823 - mae: 0.2522 - learning_rate: 0.0010\n",
            "Epoch 49/50\n",
            "\u001b[1m100/100\u001b[0m \u001b[32m━━━━━━━━━━━━━━━━━━━━\u001b[0m\u001b[37m\u001b[0m \u001b[1m5s\u001b[0m 32ms/step - loss: 0.2748 - mae: 0.2454 - learning_rate: 0.0010\n",
            "Epoch 50/50\n",
            "\u001b[1m100/100\u001b[0m \u001b[32m━━━━━━━━━━━━━━━━━━━━\u001b[0m\u001b[37m\u001b[0m \u001b[1m5s\u001b[0m 32ms/step - loss: 0.2560 - mae: 0.2268 - learning_rate: 0.0010\n"
          ]
        }
      ],
      "execution_count": 17
    },
    {
      "metadata": {
        "id": "7fc2495c35318f50",
        "colab": {
          "base_uri": "https://localhost:8080/"
        },
        "outputId": "657cbfaf-3422-41e4-a7f0-8d6fa7498376"
      },
      "cell_type": "code",
      "source": [
        "y_pred = model.predict(X_test)"
      ],
      "id": "7fc2495c35318f50",
      "outputs": [
        {
          "output_type": "stream",
          "name": "stdout",
          "text": [
            "\u001b[1m25/25\u001b[0m \u001b[32m━━━━━━━━━━━━━━━━━━━━\u001b[0m\u001b[37m\u001b[0m \u001b[1m2s\u001b[0m 37ms/step\n"
          ]
        }
      ],
      "execution_count": 18
    },
    {
      "metadata": {
        "id": "5ddb828b0695fc68"
      },
      "cell_type": "code",
      "source": [
        "y_test_actual = scaler_target.inverse_transform(y_test.reshape(-1, 1)).flatten()\n",
        "y_pred_actual = scaler_target.inverse_transform(y_pred).flatten()"
      ],
      "id": "5ddb828b0695fc68",
      "outputs": [],
      "execution_count": 19
    },
    {
      "metadata": {
        "id": "9e025665593a7f24",
        "colab": {
          "base_uri": "https://localhost:8080/",
          "height": 545
        },
        "outputId": "4f4ba353-5178-458c-afba-f782776c90e7"
      },
      "cell_type": "code",
      "source": [
        "plt.figure(figsize=(12, 6))\n",
        "plt.plot(y_test_actual, label='Actual PM10')\n",
        "plt.plot(y_pred_actual, label='Predicted PM10')\n",
        "plt.legend()\n",
        "plt.title('PM10 Forecasting with LSTM')\n",
        "plt.show()"
      ],
      "id": "9e025665593a7f24",
      "outputs": [
        {
          "output_type": "display_data",
          "data": {
            "text/plain": [
              "<Figure size 1200x600 with 1 Axes>"
            ],
            "image/png": "[encoded data removed]"
          },
          "metadata": {}
        }
      ],
      "execution_count": 20
    },
    {
      "metadata": {
        "id": "eddf579243e8c45e",
        "colab": {
          "base_uri": "https://localhost:8080/"
        },
        "outputId": "7f2bbaa1-d98e-4742-c2fc-ee09b1f2be71"
      },
      "cell_type": "code",
      "outputs": [
        {
          "metadata": {
            "tags": null
          },
          "name": "stdout",
          "output_type": "stream",
          "text": [
            "MAE: 6.153355121612549\n",
            "MSE: 74.30097961425781\n",
            "R2: 0.3330475553437713\n"
          ]
        }
      ],
      "execution_count": 21,
      "source": [
        "mae = mean_absolute_error(y_test_actual, y_pred_actual)\n",
        "print(f\"MAE: {mae}\")\n",
        "mse = mean_squared_error(y_test_actual, y_pred_actual)\n",
        "print(f\"MSE: {mse}\")\n",
        "r2 = r2_score(y_test_actual, y_pred_actual)\n",
        "print(f\"R2: {r2}\")"
      ],
      "id": "eddf579243e8c45e"
    }
  ],
  "metadata": {
    "kernelspec": {
      "display_name": "Python 3 (ipykernel)",
      "name": "python3",
      "language": "python"
    },
    "language_info": {
      "codemirror_mode": {
        "name": "ipython",
        "version": 2
      },
      "file_extension": ".py",
      "mimetype": "text/x-python",
      "name": "python",
      "nbconvert_exporter": "python",
      "pygments_lexer": "ipython2",
      "version": "2.7.6"
    },
    "colab": {
      "provenance": [],
      "gpuType": "T4"
    },
    "accelerator": "GPU"
  },
  "nbformat": 4,
  "nbformat_minor": 5
}