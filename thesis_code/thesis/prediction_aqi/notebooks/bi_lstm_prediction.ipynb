{
  "cells": [
    {
      "metadata": {
        "ExecuteTime": {
          "end_time": "2025-03-23T11:48:52.631669Z",
          "start_time": "2025-03-23T11:48:51.443956Z"
        },
        "id": "e2a56735601cd709"
      },
      "cell_type": "code",
      "source": [
        "import pandas as pd\n",
        "from tensorflow.keras.models import Sequential\n",
        "from tensorflow.keras.layers import LSTM, Dense, Dropout\n",
        "from sklearn.preprocessing import MinMaxScaler\n",
        "import numpy as np\n",
        "import matplotlib.pyplot as plt\n",
        "from keras.optimizers import Adam\n",
        "from keras.layers import Bidirectional, BatchNormalization\n",
        "from keras.callbacks import EarlyStopping, ReduceLROnPlateau\n",
        "from sklearn.metrics import r2_score\n",
        "from tensorflow.python.keras.losses import mean_squared_error, mean_absolute_error"
      ],
      "id": "e2a56735601cd709",
      "outputs": [],
      "execution_count": 1
    },
    {
      "metadata": {
        "ExecuteTime": {
          "end_time": "2025-03-23T11:48:52.642218Z",
          "start_time": "2025-03-23T11:48:52.634263Z"
        },
        "colab": {
          "base_uri": "https://localhost:8080/"
        },
        "id": "1b9a765aa480e816",
        "outputId": "1b694cb8-8230-42f6-a325-82daa03bd666"
      },
      "cell_type": "code",
      "source": [
        "df = pd.read_csv(\"data_for_model.csv\")\n",
        "df.shape"
      ],
      "id": "1b9a765aa480e816",
      "outputs": [
        {
          "output_type": "execute_result",
          "data": {
            "text/plain": [
              "(4018, 23)"
            ]
          },
          "metadata": {},
          "execution_count": 2
        }
      ],
      "execution_count": 2
    },
    {
      "metadata": {
        "ExecuteTime": {
          "end_time": "2025-03-23T11:48:52.715199Z",
          "start_time": "2025-03-23T11:48:52.704872Z"
        },
        "colab": {
          "base_uri": "https://localhost:8080/",
          "height": 360
        },
        "id": "5d6aae82ed2c6880",
        "outputId": "ec45b3de-a170-44ab-cc2b-19a6b6e7219f"
      },
      "cell_type": "code",
      "source": [
        "df.head()"
      ],
      "id": "5d6aae82ed2c6880",
      "outputs": [
        {
          "output_type": "execute_result",
          "data": {
            "text/plain": [
              "   Unnamed: 0  Station1_CO  Station1_NO2  Station1_NOx  Station1_PM10  \\\n",
              "0  2014-01-01       1057.0          31.3          67.6           56.0   \n",
              "1  2014-01-02       1030.0          37.0          89.1           60.0   \n",
              "2  2014-01-03       1319.0          49.1         196.1           69.0   \n",
              "3  2014-01-04       1001.0          36.9          94.8           46.0   \n",
              "4  2014-01-05       1155.0          37.3         102.6           39.0   \n",
              "\n",
              "   Station1_SO2  Station2_CO  Station2_NO2  Station2_NOx  Station2_O3  ...  \\\n",
              "0          6.96       1121.0          19.9          27.5          9.3  ...   \n",
              "1         11.12       1212.0          25.9          44.4          9.9  ...   \n",
              "2         10.18       1292.0          26.3          60.5          7.5  ...   \n",
              "3         11.66        952.0          21.6          27.3          7.6  ...   \n",
              "4          9.32       1001.0          23.4          36.6         12.5  ...   \n",
              "\n",
              "   humidity  precip  precipcover  cloudcover  windspeed  visibility  \\\n",
              "0      91.5   0.000         0.00        58.3        7.3         2.6   \n",
              "1      83.0   0.000         0.00        60.4       10.9         6.4   \n",
              "2      82.9   0.000         0.00        61.5       14.3        11.0   \n",
              "3      88.5   0.398         4.17        83.2       17.9         8.0   \n",
              "4      79.0   0.300        12.50        92.1       21.4        18.0   \n",
              "\n",
              "   is_heating_season  is_work_day  winddir_sin  winddir_cos  \n",
              "0                  1            1     0.979223    -0.202787  \n",
              "1                  1            1     0.685818    -0.727773  \n",
              "2                  1            1     0.068015    -0.997684  \n",
              "3                  1            0     0.432086    -0.901833  \n",
              "4                  1            0     0.436802    -0.899558  \n",
              "\n",
              "[5 rows x 23 columns]"
            ],
            "text/html": [
              "\n",
              "  <div id=\"df-65b8db29-da60-49e9-ba4e-ae3cc2885604\" class=\"colab-df-container\">\n",
              "    <div>\n",
              "<style scoped>\n",
              "    .dataframe tbody tr th:only-of-type {\n",
              "        vertical-align: middle;\n",
              "    }\n",
              "\n",
              "    .dataframe tbody tr th {\n",
              "        vertical-align: top;\n",
              "    }\n",
              "\n",
              "    .dataframe thead th {\n",
              "        text-align: right;\n",
              "    }\n",
              "</style>\n",
              "<table border=\"1\" class=\"dataframe\">\n",
              "  <thead>\n",
              "    <tr style=\"text-align: right;\">\n",
              "      <th></th>\n",
              "      <th>Unnamed: 0</th>\n",
              "      <th>Station1_CO</th>\n",
              "      <th>Station1_NO2</th>\n",
              "      <th>Station1_NOx</th>\n",
              "      <th>Station1_PM10</th>\n",
              "      <th>Station1_SO2</th>\n",
              "      <th>Station2_CO</th>\n",
              "      <th>Station2_NO2</th>\n",
              "      <th>Station2_NOx</th>\n",
              "      <th>Station2_O3</th>\n",
              "      <th>...</th>\n",
              "      <th>humidity</th>\n",
              "      <th>precip</th>\n",
              "      <th>precipcover</th>\n",
              "      <th>cloudcover</th>\n",
              "      <th>windspeed</th>\n",
              "      <th>visibility</th>\n",
              "      <th>is_heating_season</th>\n",
              "      <th>is_work_day</th>\n",
              "      <th>winddir_sin</th>\n",
              "      <th>winddir_cos</th>\n",
              "    </tr>\n",
              "  </thead>\n",
              "  <tbody>\n",
              "    <tr>\n",
              "      <th>0</th>\n",
              "      <td>2014-01-01</td>\n",
              "      <td>1057.0</td>\n",
              "      <td>31.3</td>\n",
              "      <td>67.6</td>\n",
              "      <td>56.0</td>\n",
              "      <td>6.96</td>\n",
              "      <td>1121.0</td>\n",
              "      <td>19.9</td>\n",
              "      <td>27.5</td>\n",
              "      <td>9.3</td>\n",
              "      <td>...</td>\n",
              "      <td>91.5</td>\n",
              "      <td>0.000</td>\n",
              "      <td>0.00</td>\n",
              "      <td>58.3</td>\n",
              "      <td>7.3</td>\n",
              "      <td>2.6</td>\n",
              "      <td>1</td>\n",
              "      <td>1</td>\n",
              "      <td>0.979223</td>\n",
              "      <td>-0.202787</td>\n",
              "    </tr>\n",
              "    <tr>\n",
              "      <th>1</th>\n",
              "      <td>2014-01-02</td>\n",
              "      <td>1030.0</td>\n",
              "      <td>37.0</td>\n",
              "      <td>89.1</td>\n",
              "      <td>60.0</td>\n",
              "      <td>11.12</td>\n",
              "      <td>1212.0</td>\n",
              "      <td>25.9</td>\n",
              "      <td>44.4</td>\n",
              "      <td>9.9</td>\n",
              "      <td>...</td>\n",
              "      <td>83.0</td>\n",
              "      <td>0.000</td>\n",
              "      <td>0.00</td>\n",
              "      <td>60.4</td>\n",
              "      <td>10.9</td>\n",
              "      <td>6.4</td>\n",
              "      <td>1</td>\n",
              "      <td>1</td>\n",
              "      <td>0.685818</td>\n",
              "      <td>-0.727773</td>\n",
              "    </tr>\n",
              "    <tr>\n",
              "      <th>2</th>\n",
              "      <td>2014-01-03</td>\n",
              "      <td>1319.0</td>\n",
              "      <td>49.1</td>\n",
              "      <td>196.1</td>\n",
              "      <td>69.0</td>\n",
              "      <td>10.18</td>\n",
              "      <td>1292.0</td>\n",
              "      <td>26.3</td>\n",
              "      <td>60.5</td>\n",
              "      <td>7.5</td>\n",
              "      <td>...</td>\n",
              "      <td>82.9</td>\n",
              "      <td>0.000</td>\n",
              "      <td>0.00</td>\n",
              "      <td>61.5</td>\n",
              "      <td>14.3</td>\n",
              "      <td>11.0</td>\n",
              "      <td>1</td>\n",
              "      <td>1</td>\n",
              "      <td>0.068015</td>\n",
              "      <td>-0.997684</td>\n",
              "    </tr>\n",
              "    <tr>\n",
              "      <th>3</th>\n",
              "      <td>2014-01-04</td>\n",
              "      <td>1001.0</td>\n",
              "      <td>36.9</td>\n",
              "      <td>94.8</td>\n",
              "      <td>46.0</td>\n",
              "      <td>11.66</td>\n",
              "      <td>952.0</td>\n",
              "      <td>21.6</td>\n",
              "      <td>27.3</td>\n",
              "      <td>7.6</td>\n",
              "      <td>...</td>\n",
              "      <td>88.5</td>\n",
              "      <td>0.398</td>\n",
              "      <td>4.17</td>\n",
              "      <td>83.2</td>\n",
              "      <td>17.9</td>\n",
              "      <td>8.0</td>\n",
              "      <td>1</td>\n",
              "      <td>0</td>\n",
              "      <td>0.432086</td>\n",
              "      <td>-0.901833</td>\n",
              "    </tr>\n",
              "    <tr>\n",
              "      <th>4</th>\n",
              "      <td>2014-01-05</td>\n",
              "      <td>1155.0</td>\n",
              "      <td>37.3</td>\n",
              "      <td>102.6</td>\n",
              "      <td>39.0</td>\n",
              "      <td>9.32</td>\n",
              "      <td>1001.0</td>\n",
              "      <td>23.4</td>\n",
              "      <td>36.6</td>\n",
              "      <td>12.5</td>\n",
              "      <td>...</td>\n",
              "      <td>79.0</td>\n",
              "      <td>0.300</td>\n",
              "      <td>12.50</td>\n",
              "      <td>92.1</td>\n",
              "      <td>21.4</td>\n",
              "      <td>18.0</td>\n",
              "      <td>1</td>\n",
              "      <td>0</td>\n",
              "      <td>0.436802</td>\n",
              "      <td>-0.899558</td>\n",
              "    </tr>\n",
              "  </tbody>\n",
              "</table>\n",
              "<p>5 rows × 23 columns</p>\n",
              "</div>\n",
              "    <div class=\"colab-df-buttons\">\n",
              "\n",
              "  <div class=\"colab-df-container\">\n",
              "    <button class=\"colab-df-convert\" onclick=\"convertToInteractive('df-65b8db29-da60-49e9-ba4e-ae3cc2885604')\"\n",
              "            title=\"Convert this dataframe to an interactive table.\"\n",
              "            style=\"display:none;\">\n",
              "\n",
              "  <svg xmlns=\"http://www.w3.org/2000/svg\" height=\"24px\" viewBox=\"0 -960 960 960\">\n",
              "    <path d=\"M120-120v-720h720v720H120Zm60-500h600v-160H180v160Zm220 220h160v-160H400v160Zm0 220h160v-160H400v160ZM180-400h160v-160H180v160Zm440 0h160v-160H620v160ZM180-180h160v-160H180v160Zm440 0h160v-160H620v160Z\"/>\n",
              "  </svg>\n",
              "    </button>\n",
              "\n",
              "  <style>\n",
              "    .colab-df-container {\n",
              "      display:flex;\n",
              "      gap: 12px;\n",
              "    }\n",
              "\n",
              "    .colab-df-convert {\n",
              "      background-color: #E8F0FE;\n",
              "      border: none;\n",
              "      border-radius: 50%;\n",
              "      cursor: pointer;\n",
              "      display: none;\n",
              "      fill: #1967D2;\n",
              "      height: 32px;\n",
              "      padding: 0 0 0 0;\n",
              "      width: 32px;\n",
              "    }\n",
              "\n",
              "    .colab-df-convert:hover {\n",
              "      background-color: #E2EBFA;\n",
              "      box-shadow: 0px 1px 2px rgba(60, 64, 67, 0.3), 0px 1px 3px 1px rgba(60, 64, 67, 0.15);\n",
              "      fill: #174EA6;\n",
              "    }\n",
              "\n",
              "    .colab-df-buttons div {\n",
              "      margin-bottom: 4px;\n",
              "    }\n",
              "\n",
              "    [theme=dark] .colab-df-convert {\n",
              "      background-color: #3B4455;\n",
              "      fill: #D2E3FC;\n",
              "    }\n",
              "\n",
              "    [theme=dark] .colab-df-convert:hover {\n",
              "      background-color: #434B5C;\n",
              "      box-shadow: 0px 1px 3px 1px rgba(0, 0, 0, 0.15);\n",
              "      filter: drop-shadow(0px 1px 2px rgba(0, 0, 0, 0.3));\n",
              "      fill: #FFFFFF;\n",
              "    }\n",
              "  </style>\n",
              "\n",
              "    <script>\n",
              "      const buttonEl =\n",
              "        document.querySelector('#df-65b8db29-da60-49e9-ba4e-ae3cc2885604 button.colab-df-convert');\n",
              "      buttonEl.style.display =\n",
              "        google.colab.kernel.accessAllowed ? 'block' : 'none';\n",
              "\n",
              "      async function convertToInteractive(key) {\n",
              "        const element = document.querySelector('#df-65b8db29-da60-49e9-ba4e-ae3cc2885604');\n",
              "        const dataTable =\n",
              "          await google.colab.kernel.invokeFunction('convertToInteractive',\n",
              "                                                    [key], {});\n",
              "        if (!dataTable) return;\n",
              "\n",
              "        const docLinkHtml = 'Like what you see? Visit the ' +\n",
              "          '<a target=\"_blank\" href=https://colab.research.google.com/notebooks/data_table.ipynb>data table notebook</a>'\n",
              "          + ' to learn more about interactive tables.';\n",
              "        element.innerHTML = '';\n",
              "        dataTable['output_type'] = 'display_data';\n",
              "        await google.colab.output.renderOutput(dataTable, element);\n",
              "        const docLink = document.createElement('div');\n",
              "        docLink.innerHTML = docLinkHtml;\n",
              "        element.appendChild(docLink);\n",
              "      }\n",
              "    </script>\n",
              "  </div>\n",
              "\n",
              "\n",
              "<div id=\"df-671714a7-2ca0-49cd-9d79-dc35e93d3dc5\">\n",
              "  <button class=\"colab-df-quickchart\" onclick=\"quickchart('df-671714a7-2ca0-49cd-9d79-dc35e93d3dc5')\"\n",
              "            title=\"Suggest charts\"\n",
              "            style=\"display:none;\">\n",
              "\n",
              "<svg xmlns=\"http://www.w3.org/2000/svg\" height=\"24px\"viewBox=\"0 0 24 24\"\n",
              "     width=\"24px\">\n",
              "    <g>\n",
              "        <path d=\"M19 3H5c-1.1 0-2 .9-2 2v14c0 1.1.9 2 2 2h14c1.1 0 2-.9 2-2V5c0-1.1-.9-2-2-2zM9 17H7v-7h2v7zm4 0h-2V7h2v10zm4 0h-2v-4h2v4z\"/>\n",
              "    </g>\n",
              "</svg>\n",
              "  </button>\n",
              "\n",
              "<style>\n",
              "  .colab-df-quickchart {\n",
              "      --bg-color: #E8F0FE;\n",
              "      --fill-color: #1967D2;\n",
              "      --hover-bg-color: #E2EBFA;\n",
              "      --hover-fill-color: #174EA6;\n",
              "      --disabled-fill-color: #AAA;\n",
              "      --disabled-bg-color: #DDD;\n",
              "  }\n",
              "\n",
              "  [theme=dark] .colab-df-quickchart {\n",
              "      --bg-color: #3B4455;\n",
              "      --fill-color: #D2E3FC;\n",
              "      --hover-bg-color: #434B5C;\n",
              "      --hover-fill-color: #FFFFFF;\n",
              "      --disabled-bg-color: #3B4455;\n",
              "      --disabled-fill-color: #666;\n",
              "  }\n",
              "\n",
              "  .colab-df-quickchart {\n",
              "    background-color: var(--bg-color);\n",
              "    border: none;\n",
              "    border-radius: 50%;\n",
              "    cursor: pointer;\n",
              "    display: none;\n",
              "    fill: var(--fill-color);\n",
              "    height: 32px;\n",
              "    padding: 0;\n",
              "    width: 32px;\n",
              "  }\n",
              "\n",
              "  .colab-df-quickchart:hover {\n",
              "    background-color: var(--hover-bg-color);\n",
              "    box-shadow: 0 1px 2px rgba(60, 64, 67, 0.3), 0 1px 3px 1px rgba(60, 64, 67, 0.15);\n",
              "    fill: var(--button-hover-fill-color);\n",
              "  }\n",
              "\n",
              "  .colab-df-quickchart-complete:disabled,\n",
              "  .colab-df-quickchart-complete:disabled:hover {\n",
              "    background-color: var(--disabled-bg-color);\n",
              "    fill: var(--disabled-fill-color);\n",
              "    box-shadow: none;\n",
              "  }\n",
              "\n",
              "  .colab-df-spinner {\n",
              "    border: 2px solid var(--fill-color);\n",
              "    border-color: transparent;\n",
              "    border-bottom-color: var(--fill-color);\n",
              "    animation:\n",
              "      spin 1s steps(1) infinite;\n",
              "  }\n",
              "\n",
              "  @keyframes spin {\n",
              "    0% {\n",
              "      border-color: transparent;\n",
              "      border-bottom-color: var(--fill-color);\n",
              "      border-left-color: var(--fill-color);\n",
              "    }\n",
              "    20% {\n",
              "      border-color: transparent;\n",
              "      border-left-color: var(--fill-color);\n",
              "      border-top-color: var(--fill-color);\n",
              "    }\n",
              "    30% {\n",
              "      border-color: transparent;\n",
              "      border-left-color: var(--fill-color);\n",
              "      border-top-color: var(--fill-color);\n",
              "      border-right-color: var(--fill-color);\n",
              "    }\n",
              "    40% {\n",
              "      border-color: transparent;\n",
              "      border-right-color: var(--fill-color);\n",
              "      border-top-color: var(--fill-color);\n",
              "    }\n",
              "    60% {\n",
              "      border-color: transparent;\n",
              "      border-right-color: var(--fill-color);\n",
              "    }\n",
              "    80% {\n",
              "      border-color: transparent;\n",
              "      border-right-color: var(--fill-color);\n",
              "      border-bottom-color: var(--fill-color);\n",
              "    }\n",
              "    90% {\n",
              "      border-color: transparent;\n",
              "      border-bottom-color: var(--fill-color);\n",
              "    }\n",
              "  }\n",
              "</style>\n",
              "\n",
              "  <script>\n",
              "    async function quickchart(key) {\n",
              "      const quickchartButtonEl =\n",
              "        document.querySelector('#' + key + ' button');\n",
              "      quickchartButtonEl.disabled = true;  // To prevent multiple clicks.\n",
              "      quickchartButtonEl.classList.add('colab-df-spinner');\n",
              "      try {\n",
              "        const charts = await google.colab.kernel.invokeFunction(\n",
              "            'suggestCharts', [key], {});\n",
              "      } catch (error) {\n",
              "        console.error('Error during call to suggestCharts:', error);\n",
              "      }\n",
              "      quickchartButtonEl.classList.remove('colab-df-spinner');\n",
              "      quickchartButtonEl.classList.add('colab-df-quickchart-complete');\n",
              "    }\n",
              "    (() => {\n",
              "      let quickchartButtonEl =\n",
              "        document.querySelector('#df-671714a7-2ca0-49cd-9d79-dc35e93d3dc5 button');\n",
              "      quickchartButtonEl.style.display =\n",
              "        google.colab.kernel.accessAllowed ? 'block' : 'none';\n",
              "    })();\n",
              "  </script>\n",
              "</div>\n",
              "\n",
              "    </div>\n",
              "  </div>\n"
            ],
            "application/vnd.google.colaboratory.intrinsic+json": {
              "type": "dataframe",
              "variable_name": "df"
            }
          },
          "metadata": {},
          "execution_count": 3
        }
      ],
      "execution_count": 3
    },
    {
      "metadata": {
        "ExecuteTime": {
          "end_time": "2025-03-23T11:48:52.741950Z",
          "start_time": "2025-03-23T11:48:52.739211Z"
        },
        "id": "6ef367e09ca6dc2d"
      },
      "cell_type": "code",
      "source": [
        "df[\"Date\"] = df[\"Unnamed: 0\"]\n",
        "df.drop(\"Unnamed: 0\", axis=1, inplace=True)"
      ],
      "id": "6ef367e09ca6dc2d",
      "outputs": [],
      "execution_count": 4
    },
    {
      "metadata": {
        "ExecuteTime": {
          "end_time": "2025-03-23T11:48:52.773845Z",
          "start_time": "2025-03-23T11:48:52.771299Z"
        },
        "id": "e4867603a6358203"
      },
      "cell_type": "code",
      "source": [
        "df.set_index(\"Date\", inplace=True)"
      ],
      "id": "e4867603a6358203",
      "outputs": [],
      "execution_count": 5
    },
    {
      "metadata": {
        "ExecuteTime": {
          "end_time": "2025-03-23T11:48:52.799684Z",
          "start_time": "2025-03-23T11:48:52.796807Z"
        },
        "colab": {
          "base_uri": "https://localhost:8080/",
          "height": 774
        },
        "id": "e2f89ef1304ea176",
        "outputId": "6839b75c-8b49-4f01-98a4-a29d8d53b6c2"
      },
      "cell_type": "code",
      "source": [
        "df.isna().sum()"
      ],
      "id": "e2f89ef1304ea176",
      "outputs": [
        {
          "output_type": "execute_result",
          "data": {
            "text/plain": [
              "Station1_CO            0\n",
              "Station1_NO2           0\n",
              "Station1_NOx           0\n",
              "Station1_PM10          0\n",
              "Station1_SO2           0\n",
              "Station2_CO            0\n",
              "Station2_NO2           0\n",
              "Station2_NOx           0\n",
              "Station2_O3          158\n",
              "Station2_PM10          0\n",
              "Station2_SO2           0\n",
              "temp                   0\n",
              "humidity               0\n",
              "precip                 0\n",
              "precipcover            0\n",
              "cloudcover             0\n",
              "windspeed              0\n",
              "visibility             0\n",
              "is_heating_season      0\n",
              "is_work_day            0\n",
              "winddir_sin            0\n",
              "winddir_cos            0\n",
              "dtype: int64"
            ],
            "text/html": [
              "<div>\n",
              "<style scoped>\n",
              "    .dataframe tbody tr th:only-of-type {\n",
              "        vertical-align: middle;\n",
              "    }\n",
              "\n",
              "    .dataframe tbody tr th {\n",
              "        vertical-align: top;\n",
              "    }\n",
              "\n",
              "    .dataframe thead th {\n",
              "        text-align: right;\n",
              "    }\n",
              "</style>\n",
              "<table border=\"1\" class=\"dataframe\">\n",
              "  <thead>\n",
              "    <tr style=\"text-align: right;\">\n",
              "      <th></th>\n",
              "      <th>0</th>\n",
              "    </tr>\n",
              "  </thead>\n",
              "  <tbody>\n",
              "    <tr>\n",
              "      <th>Station1_CO</th>\n",
              "      <td>0</td>\n",
              "    </tr>\n",
              "    <tr>\n",
              "      <th>Station1_NO2</th>\n",
              "      <td>0</td>\n",
              "    </tr>\n",
              "    <tr>\n",
              "      <th>Station1_NOx</th>\n",
              "      <td>0</td>\n",
              "    </tr>\n",
              "    <tr>\n",
              "      <th>Station1_PM10</th>\n",
              "      <td>0</td>\n",
              "    </tr>\n",
              "    <tr>\n",
              "      <th>Station1_SO2</th>\n",
              "      <td>0</td>\n",
              "    </tr>\n",
              "    <tr>\n",
              "      <th>Station2_CO</th>\n",
              "      <td>0</td>\n",
              "    </tr>\n",
              "    <tr>\n",
              "      <th>Station2_NO2</th>\n",
              "      <td>0</td>\n",
              "    </tr>\n",
              "    <tr>\n",
              "      <th>Station2_NOx</th>\n",
              "      <td>0</td>\n",
              "    </tr>\n",
              "    <tr>\n",
              "      <th>Station2_O3</th>\n",
              "      <td>158</td>\n",
              "    </tr>\n",
              "    <tr>\n",
              "      <th>Station2_PM10</th>\n",
              "      <td>0</td>\n",
              "    </tr>\n",
              "    <tr>\n",
              "      <th>Station2_SO2</th>\n",
              "      <td>0</td>\n",
              "    </tr>\n",
              "    <tr>\n",
              "      <th>temp</th>\n",
              "      <td>0</td>\n",
              "    </tr>\n",
              "    <tr>\n",
              "      <th>humidity</th>\n",
              "      <td>0</td>\n",
              "    </tr>\n",
              "    <tr>\n",
              "      <th>precip</th>\n",
              "      <td>0</td>\n",
              "    </tr>\n",
              "    <tr>\n",
              "      <th>precipcover</th>\n",
              "      <td>0</td>\n",
              "    </tr>\n",
              "    <tr>\n",
              "      <th>cloudcover</th>\n",
              "      <td>0</td>\n",
              "    </tr>\n",
              "    <tr>\n",
              "      <th>windspeed</th>\n",
              "      <td>0</td>\n",
              "    </tr>\n",
              "    <tr>\n",
              "      <th>visibility</th>\n",
              "      <td>0</td>\n",
              "    </tr>\n",
              "    <tr>\n",
              "      <th>is_heating_season</th>\n",
              "      <td>0</td>\n",
              "    </tr>\n",
              "    <tr>\n",
              "      <th>is_work_day</th>\n",
              "      <td>0</td>\n",
              "    </tr>\n",
              "    <tr>\n",
              "      <th>winddir_sin</th>\n",
              "      <td>0</td>\n",
              "    </tr>\n",
              "    <tr>\n",
              "      <th>winddir_cos</th>\n",
              "      <td>0</td>\n",
              "    </tr>\n",
              "  </tbody>\n",
              "</table>\n",
              "</div><br><label><b>dtype:</b> int64</label>"
            ]
          },
          "metadata": {},
          "execution_count": 6
        }
      ],
      "execution_count": 6
    },
    {
      "metadata": {
        "ExecuteTime": {
          "end_time": "2025-03-23T11:48:52.845610Z",
          "start_time": "2025-03-23T11:48:52.843448Z"
        },
        "id": "af8809a0db8a6dd8"
      },
      "cell_type": "code",
      "source": [
        "features = [\n",
        "    \"Station1_CO\", \"Station1_NO2\", \"Station1_NOx\",\n",
        "    \"Station2_CO\", \"Station2_NO2\", \"Station2_NOx\", \"Station2_O3\",\n",
        "    \"Station1_PM10\", \"temp\", \"humidity\", \"precip\",\n",
        "    \"precipcover\", \"cloudcover\", \"windspeed\", \"visibility\",\n",
        "    \"winddir_sin\", \"winddir_cos\", \"is_heating_season\", \"is_work_day\"\n",
        "]\n",
        "target = \"Station2_PM10\""
      ],
      "id": "af8809a0db8a6dd8",
      "outputs": [],
      "execution_count": 7
    },
    {
      "metadata": {
        "ExecuteTime": {
          "end_time": "2025-03-23T11:48:52.875235Z",
          "start_time": "2025-03-23T11:48:52.870077Z"
        },
        "colab": {
          "base_uri": "https://localhost:8080/"
        },
        "id": "56352711094f97b",
        "outputId": "de0d8f4e-524f-47dd-a780-8d476d858b20"
      },
      "cell_type": "code",
      "source": [
        "print(df.isnull().sum())\n",
        "df.fillna(method=\"ffill\", inplace=True)"
      ],
      "id": "56352711094f97b",
      "outputs": [
        {
          "output_type": "stream",
          "name": "stdout",
          "text": [
            "Station1_CO            0\n",
            "Station1_NO2           0\n",
            "Station1_NOx           0\n",
            "Station1_PM10          0\n",
            "Station1_SO2           0\n",
            "Station2_CO            0\n",
            "Station2_NO2           0\n",
            "Station2_NOx           0\n",
            "Station2_O3          158\n",
            "Station2_PM10          0\n",
            "Station2_SO2           0\n",
            "temp                   0\n",
            "humidity               0\n",
            "precip                 0\n",
            "precipcover            0\n",
            "cloudcover             0\n",
            "windspeed              0\n",
            "visibility             0\n",
            "is_heating_season      0\n",
            "is_work_day            0\n",
            "winddir_sin            0\n",
            "winddir_cos            0\n",
            "dtype: int64\n"
          ]
        },
        {
          "output_type": "stream",
          "name": "stderr",
          "text": [
            "<ipython-input-8-d837759882ff>:2: FutureWarning: DataFrame.fillna with 'method' is deprecated and will raise in a future version. Use obj.ffill() or obj.bfill() instead.\n",
            "  df.fillna(method=\"ffill\", inplace=True)\n"
          ]
        }
      ],
      "execution_count": 8
    },
    {
      "metadata": {
        "ExecuteTime": {
          "end_time": "2025-03-23T11:48:52.912262Z",
          "start_time": "2025-03-23T11:48:52.909247Z"
        },
        "colab": {
          "base_uri": "https://localhost:8080/"
        },
        "id": "5f2c48ab1fa5c387",
        "outputId": "1b5ea6a1-1267-4b50-9d48-044fd4b2c3bc"
      },
      "cell_type": "code",
      "source": [
        "print(df.isnull().sum())"
      ],
      "id": "5f2c48ab1fa5c387",
      "outputs": [
        {
          "output_type": "stream",
          "name": "stdout",
          "text": [
            "Station1_CO          0\n",
            "Station1_NO2         0\n",
            "Station1_NOx         0\n",
            "Station1_PM10        0\n",
            "Station1_SO2         0\n",
            "Station2_CO          0\n",
            "Station2_NO2         0\n",
            "Station2_NOx         0\n",
            "Station2_O3          0\n",
            "Station2_PM10        0\n",
            "Station2_SO2         0\n",
            "temp                 0\n",
            "humidity             0\n",
            "precip               0\n",
            "precipcover          0\n",
            "cloudcover           0\n",
            "windspeed            0\n",
            "visibility           0\n",
            "is_heating_season    0\n",
            "is_work_day          0\n",
            "winddir_sin          0\n",
            "winddir_cos          0\n",
            "dtype: int64\n"
          ]
        }
      ],
      "execution_count": 9
    },
    {
      "metadata": {
        "ExecuteTime": {
          "end_time": "2025-03-23T11:48:52.941057Z",
          "start_time": "2025-03-23T11:48:52.935871Z"
        },
        "id": "ebd4df789639fe39"
      },
      "cell_type": "code",
      "source": [
        "scaler_features = MinMaxScaler()\n",
        "scaler_target = MinMaxScaler()\n",
        "df_features_scaled = scaler_features.fit_transform(df[features])\n",
        "df_target_scaled = scaler_target.fit_transform(df[[target]])\n",
        "df_scaled = np.hstack((df_features_scaled, df_target_scaled))"
      ],
      "id": "ebd4df789639fe39",
      "outputs": [],
      "execution_count": 10
    },
    {
      "metadata": {
        "ExecuteTime": {
          "end_time": "2025-03-23T11:48:52.951188Z",
          "start_time": "2025-03-23T11:48:52.948337Z"
        },
        "id": "9b7718260bb518f3"
      },
      "cell_type": "code",
      "source": [
        "def create_sequences(data, target_index, seq_length):\n",
        "    X, y = [], []\n",
        "    for i in range(len(data) - seq_length):\n",
        "        X.append(data[i:i+seq_length])\n",
        "        y.append(data[i+seq_length, target_index])\n",
        "    return np.array(X), np.array(y)"
      ],
      "id": "9b7718260bb518f3",
      "outputs": [],
      "execution_count": 11
    },
    {
      "metadata": {
        "ExecuteTime": {
          "end_time": "2025-03-23T11:48:52.968721Z",
          "start_time": "2025-03-23T11:48:52.962270Z"
        },
        "id": "e9e72a228ab320b2"
      },
      "cell_type": "code",
      "source": [
        "SEQ_LENGTH = 24\n",
        "\n",
        "X, y = create_sequences(df_scaled, target_index=len(features), seq_length=SEQ_LENGTH)\n",
        "\n",
        "split_idx = int(0.8 * len(X))\n",
        "X_train, X_test = X[:split_idx], X[split_idx:]\n",
        "y_train, y_test = y[:split_idx], y[split_idx:]"
      ],
      "id": "e9e72a228ab320b2",
      "outputs": [],
      "execution_count": 12
    },
    {
      "metadata": {
        "ExecuteTime": {
          "end_time": "2025-03-23T11:48:53.008499Z",
          "start_time": "2025-03-23T11:48:52.982991Z"
        },
        "colab": {
          "base_uri": "https://localhost:8080/"
        },
        "id": "8c898be1c5e43219",
        "outputId": "8eef5f37-00fa-4f43-a2d5-b7714567472b"
      },
      "cell_type": "code",
      "source": [
        "model = Sequential([\n",
        "    Bidirectional(LSTM(128, return_sequences=True, input_shape=(SEQ_LENGTH, X.shape[2]))),\n",
        "    Dropout(0.3),\n",
        "    BatchNormalization(),\n",
        "    LSTM(64, return_sequences=True),\n",
        "    Dropout(0.3),\n",
        "    BatchNormalization(),\n",
        "    LSTM(50, return_sequences=False),\n",
        "    Dropout(0.3),\n",
        "    BatchNormalization(),\n",
        "    Dense(50, activation='relu'),\n",
        "    Dense(25, activation='relu'),\n",
        "    Dense(1, activation='linear')\n",
        "])"
      ],
      "id": "8c898be1c5e43219",
      "outputs": [
        {
          "output_type": "stream",
          "name": "stderr",
          "text": [
            "/usr/local/lib/python3.11/dist-packages/keras/src/layers/rnn/rnn.py:200: UserWarning: Do not pass an `input_shape`/`input_dim` argument to a layer. When using Sequential models, prefer using an `Input(shape)` object as the first layer in the model instead.\n",
            "  super().__init__(**kwargs)\n"
          ]
        }
      ],
      "execution_count": 13
    },
    {
      "metadata": {
        "ExecuteTime": {
          "end_time": "2025-03-23T11:48:53.030527Z",
          "start_time": "2025-03-23T11:48:53.023158Z"
        },
        "id": "db0279eaa46b834d"
      },
      "cell_type": "code",
      "source": [
        "optimizer = Adam(learning_rate=0.001)\n",
        "model.compile(optimizer=optimizer, loss='mae', metrics=['mae'])"
      ],
      "id": "db0279eaa46b834d",
      "outputs": [],
      "execution_count": 14
    },
    {
      "metadata": {
        "ExecuteTime": {
          "end_time": "2025-03-23T11:48:53.044298Z",
          "start_time": "2025-03-23T11:48:53.042555Z"
        },
        "id": "dd798eb83e2f0e3d"
      },
      "cell_type": "code",
      "source": [
        "early_stopping = EarlyStopping(monitor='val_loss', patience=10, restore_best_weights=True)\n",
        "reduce_lr = ReduceLROnPlateau(monitor='val_loss', factor=0.2, patience=5, min_lr=0.0001)"
      ],
      "id": "dd798eb83e2f0e3d",
      "outputs": [],
      "execution_count": 15
    },
    {
      "metadata": {
        "ExecuteTime": {
          "start_time": "2025-03-23T11:48:53.058084Z"
        },
        "colab": {
          "base_uri": "https://localhost:8080/"
        },
        "id": "92e7186e9b25477b",
        "outputId": "16c63c72-8cbc-46fd-e476-734ea2fe1298"
      },
      "cell_type": "code",
      "source": [
        "history = model.fit(\n",
        "    X_train,\n",
        "    y_train,\n",
        "    epochs=100,\n",
        "    validation_data=(X_test, y_test),\n",
        "    callbacks=[early_stopping, reduce_lr]\n",
        "    )"
      ],
      "id": "92e7186e9b25477b",
      "outputs": [
        {
          "output_type": "stream",
          "name": "stdout",
          "text": [
            "Epoch 1/100\n",
            "\u001b[1m100/100\u001b[0m \u001b[32m━━━━━━━━━━━━━━━━━━━━\u001b[0m\u001b[37m\u001b[0m \u001b[1m18s\u001b[0m 27ms/step - loss: 0.1994 - mae: 0.1994 - val_loss: 0.0412 - val_mae: 0.0412 - learning_rate: 0.0010\n",
            "Epoch 2/100\n",
            "\u001b[1m100/100\u001b[0m \u001b[32m━━━━━━━━━━━━━━━━━━━━\u001b[0m\u001b[37m\u001b[0m \u001b[1m2s\u001b[0m 16ms/step - loss: 0.0881 - mae: 0.0881 - val_loss: 0.0438 - val_mae: 0.0438 - learning_rate: 0.0010\n",
            "Epoch 3/100\n",
            "\u001b[1m100/100\u001b[0m \u001b[32m━━━━━━━━━━━━━━━━━━━━\u001b[0m\u001b[37m\u001b[0m \u001b[1m3s\u001b[0m 16ms/step - loss: 0.0680 - mae: 0.0680 - val_loss: 0.0399 - val_mae: 0.0399 - learning_rate: 0.0010\n",
            "Epoch 4/100\n",
            "\u001b[1m100/100\u001b[0m \u001b[32m━━━━━━━━━━━━━━━━━━━━\u001b[0m\u001b[37m\u001b[0m \u001b[1m2s\u001b[0m 17ms/step - loss: 0.0596 - mae: 0.0596 - val_loss: 0.0363 - val_mae: 0.0363 - learning_rate: 0.0010\n",
            "Epoch 5/100\n",
            "\u001b[1m100/100\u001b[0m \u001b[32m━━━━━━━━━━━━━━━━━━━━\u001b[0m\u001b[37m\u001b[0m \u001b[1m3s\u001b[0m 18ms/step - loss: 0.0553 - mae: 0.0553 - val_loss: 0.0451 - val_mae: 0.0451 - learning_rate: 0.0010\n",
            "Epoch 6/100\n",
            "\u001b[1m100/100\u001b[0m \u001b[32m━━━━━━━━━━━━━━━━━━━━\u001b[0m\u001b[37m\u001b[0m \u001b[1m3s\u001b[0m 20ms/step - loss: 0.0548 - mae: 0.0548 - val_loss: 0.0494 - val_mae: 0.0494 - learning_rate: 0.0010\n",
            "Epoch 7/100\n",
            "\u001b[1m100/100\u001b[0m \u001b[32m━━━━━━━━━━━━━━━━━━━━\u001b[0m\u001b[37m\u001b[0m \u001b[1m2s\u001b[0m 17ms/step - loss: 0.0502 - mae: 0.0502 - val_loss: 0.0398 - val_mae: 0.0398 - learning_rate: 0.0010\n",
            "Epoch 8/100\n",
            "\u001b[1m100/100\u001b[0m \u001b[32m━━━━━━━━━━━━━━━━━━━━\u001b[0m\u001b[37m\u001b[0m \u001b[1m2s\u001b[0m 16ms/step - loss: 0.0487 - mae: 0.0487 - val_loss: 0.0436 - val_mae: 0.0436 - learning_rate: 0.0010\n",
            "Epoch 9/100\n",
            "\u001b[1m100/100\u001b[0m \u001b[32m━━━━━━━━━━━━━━━━━━━━\u001b[0m\u001b[37m\u001b[0m \u001b[1m3s\u001b[0m 16ms/step - loss: 0.0490 - mae: 0.0490 - val_loss: 0.0340 - val_mae: 0.0340 - learning_rate: 0.0010\n",
            "Epoch 10/100\n",
            "\u001b[1m100/100\u001b[0m \u001b[32m━━━━━━━━━━━━━━━━━━━━\u001b[0m\u001b[37m\u001b[0m \u001b[1m3s\u001b[0m 18ms/step - loss: 0.0470 - mae: 0.0470 - val_loss: 0.0337 - val_mae: 0.0337 - learning_rate: 0.0010\n",
            "Epoch 11/100\n",
            "\u001b[1m100/100\u001b[0m \u001b[32m━━━━━━━━━━━━━━━━━━━━\u001b[0m\u001b[37m\u001b[0m \u001b[1m3s\u001b[0m 24ms/step - loss: 0.0457 - mae: 0.0457 - val_loss: 0.0326 - val_mae: 0.0326 - learning_rate: 0.0010\n",
            "Epoch 12/100\n",
            "\u001b[1m100/100\u001b[0m \u001b[32m━━━━━━━━━━━━━━━━━━━━\u001b[0m\u001b[37m\u001b[0m \u001b[1m2s\u001b[0m 17ms/step - loss: 0.0449 - mae: 0.0449 - val_loss: 0.0315 - val_mae: 0.0315 - learning_rate: 0.0010\n",
            "Epoch 13/100\n",
            "\u001b[1m100/100\u001b[0m \u001b[32m━━━━━━━━━━━━━━━━━━━━\u001b[0m\u001b[37m\u001b[0m \u001b[1m2s\u001b[0m 16ms/step - loss: 0.0442 - mae: 0.0442 - val_loss: 0.0363 - val_mae: 0.0363 - learning_rate: 0.0010\n",
            "Epoch 14/100\n",
            "\u001b[1m100/100\u001b[0m \u001b[32m━━━━━━━━━━━━━━━━━━━━\u001b[0m\u001b[37m\u001b[0m \u001b[1m2s\u001b[0m 16ms/step - loss: 0.0455 - mae: 0.0455 - val_loss: 0.0323 - val_mae: 0.0323 - learning_rate: 0.0010\n",
            "Epoch 15/100\n",
            "\u001b[1m100/100\u001b[0m \u001b[32m━━━━━━━━━━━━━━━━━━━━\u001b[0m\u001b[37m\u001b[0m \u001b[1m3s\u001b[0m 16ms/step - loss: 0.0439 - mae: 0.0439 - val_loss: 0.0312 - val_mae: 0.0312 - learning_rate: 0.0010\n",
            "Epoch 16/100\n",
            "\u001b[1m100/100\u001b[0m \u001b[32m━━━━━━━━━━━━━━━━━━━━\u001b[0m\u001b[37m\u001b[0m \u001b[1m2s\u001b[0m 20ms/step - loss: 0.0432 - mae: 0.0432 - val_loss: 0.0323 - val_mae: 0.0323 - learning_rate: 0.0010\n",
            "Epoch 17/100\n",
            "\u001b[1m100/100\u001b[0m \u001b[32m━━━━━━━━━━━━━━━━━━━━\u001b[0m\u001b[37m\u001b[0m \u001b[1m2s\u001b[0m 16ms/step - loss: 0.0420 - mae: 0.0420 - val_loss: 0.0336 - val_mae: 0.0336 - learning_rate: 0.0010\n",
            "Epoch 18/100\n",
            "\u001b[1m100/100\u001b[0m \u001b[32m━━━━━━━━━━━━━━━━━━━━\u001b[0m\u001b[37m\u001b[0m \u001b[1m2s\u001b[0m 16ms/step - loss: 0.0422 - mae: 0.0422 - val_loss: 0.0337 - val_mae: 0.0337 - learning_rate: 0.0010\n",
            "Epoch 19/100\n",
            "\u001b[1m100/100\u001b[0m \u001b[32m━━━━━━━━━━━━━━━━━━━━\u001b[0m\u001b[37m\u001b[0m \u001b[1m2s\u001b[0m 16ms/step - loss: 0.0433 - mae: 0.0433 - val_loss: 0.0312 - val_mae: 0.0312 - learning_rate: 0.0010\n",
            "Epoch 20/100\n",
            "\u001b[1m100/100\u001b[0m \u001b[32m━━━━━━━━━━━━━━━━━━━━\u001b[0m\u001b[37m\u001b[0m \u001b[1m3s\u001b[0m 16ms/step - loss: 0.0413 - mae: 0.0413 - val_loss: 0.0350 - val_mae: 0.0350 - learning_rate: 0.0010\n",
            "Epoch 21/100\n",
            "\u001b[1m100/100\u001b[0m \u001b[32m━━━━━━━━━━━━━━━━━━━━\u001b[0m\u001b[37m\u001b[0m \u001b[1m3s\u001b[0m 16ms/step - loss: 0.0396 - mae: 0.0396 - val_loss: 0.0297 - val_mae: 0.0297 - learning_rate: 2.0000e-04\n",
            "Epoch 22/100\n",
            "\u001b[1m100/100\u001b[0m \u001b[32m━━━━━━━━━━━━━━━━━━━━\u001b[0m\u001b[37m\u001b[0m \u001b[1m2s\u001b[0m 24ms/step - loss: 0.0391 - mae: 0.0391 - val_loss: 0.0293 - val_mae: 0.0293 - learning_rate: 2.0000e-04\n",
            "Epoch 23/100\n",
            "\u001b[1m100/100\u001b[0m \u001b[32m━━━━━━━━━━━━━━━━━━━━\u001b[0m\u001b[37m\u001b[0m \u001b[1m2s\u001b[0m 16ms/step - loss: 0.0398 - mae: 0.0398 - val_loss: 0.0295 - val_mae: 0.0295 - learning_rate: 2.0000e-04\n",
            "Epoch 24/100\n",
            "\u001b[1m100/100\u001b[0m \u001b[32m━━━━━━━━━━━━━━━━━━━━\u001b[0m\u001b[37m\u001b[0m \u001b[1m2s\u001b[0m 16ms/step - loss: 0.0372 - mae: 0.0372 - val_loss: 0.0301 - val_mae: 0.0301 - learning_rate: 2.0000e-04\n",
            "Epoch 25/100\n",
            "\u001b[1m100/100\u001b[0m \u001b[32m━━━━━━━━━━━━━━━━━━━━\u001b[0m\u001b[37m\u001b[0m \u001b[1m2s\u001b[0m 16ms/step - loss: 0.0380 - mae: 0.0380 - val_loss: 0.0312 - val_mae: 0.0312 - learning_rate: 2.0000e-04\n",
            "Epoch 26/100\n",
            "\u001b[1m100/100\u001b[0m \u001b[32m━━━━━━━━━━━━━━━━━━━━\u001b[0m\u001b[37m\u001b[0m \u001b[1m3s\u001b[0m 16ms/step - loss: 0.0380 - mae: 0.0380 - val_loss: 0.0314 - val_mae: 0.0314 - learning_rate: 2.0000e-04\n",
            "Epoch 27/100\n",
            "\u001b[1m100/100\u001b[0m \u001b[32m━━━━━━━━━━━━━━━━━━━━\u001b[0m\u001b[37m\u001b[0m \u001b[1m2s\u001b[0m 17ms/step - loss: 0.0388 - mae: 0.0388 - val_loss: 0.0292 - val_mae: 0.0292 - learning_rate: 2.0000e-04\n",
            "Epoch 28/100\n",
            "\u001b[1m100/100\u001b[0m \u001b[32m━━━━━━━━━━━━━━━━━━━━\u001b[0m\u001b[37m\u001b[0m \u001b[1m4s\u001b[0m 37ms/step - loss: 0.0368 - mae: 0.0368 - val_loss: 0.0295 - val_mae: 0.0295 - learning_rate: 2.0000e-04\n",
            "Epoch 29/100\n",
            "\u001b[1m100/100\u001b[0m \u001b[32m━━━━━━━━━━━━━━━━━━━━\u001b[0m\u001b[37m\u001b[0m \u001b[1m2s\u001b[0m 16ms/step - loss: 0.0370 - mae: 0.0370 - val_loss: 0.0305 - val_mae: 0.0305 - learning_rate: 2.0000e-04\n",
            "Epoch 30/100\n",
            "\u001b[1m100/100\u001b[0m \u001b[32m━━━━━━━━━━━━━━━━━━━━\u001b[0m\u001b[37m\u001b[0m \u001b[1m2s\u001b[0m 16ms/step - loss: 0.0370 - mae: 0.0370 - val_loss: 0.0292 - val_mae: 0.0292 - learning_rate: 2.0000e-04\n",
            "Epoch 31/100\n",
            "\u001b[1m100/100\u001b[0m \u001b[32m━━━━━━━━━━━━━━━━━━━━\u001b[0m\u001b[37m\u001b[0m \u001b[1m2s\u001b[0m 17ms/step - loss: 0.0371 - mae: 0.0371 - val_loss: 0.0305 - val_mae: 0.0305 - learning_rate: 2.0000e-04\n",
            "Epoch 32/100\n",
            "\u001b[1m100/100\u001b[0m \u001b[32m━━━━━━━━━━━━━━━━━━━━\u001b[0m\u001b[37m\u001b[0m \u001b[1m2s\u001b[0m 16ms/step - loss: 0.0371 - mae: 0.0371 - val_loss: 0.0299 - val_mae: 0.0299 - learning_rate: 2.0000e-04\n",
            "Epoch 33/100\n",
            "\u001b[1m100/100\u001b[0m \u001b[32m━━━━━━━━━━━━━━━━━━━━\u001b[0m\u001b[37m\u001b[0m \u001b[1m3s\u001b[0m 16ms/step - loss: 0.0376 - mae: 0.0376 - val_loss: 0.0291 - val_mae: 0.0291 - learning_rate: 1.0000e-04\n",
            "Epoch 34/100\n",
            "\u001b[1m100/100\u001b[0m \u001b[32m━━━━━━━━━━━━━━━━━━━━\u001b[0m\u001b[37m\u001b[0m \u001b[1m2s\u001b[0m 22ms/step - loss: 0.0377 - mae: 0.0377 - val_loss: 0.0297 - val_mae: 0.0297 - learning_rate: 1.0000e-04\n",
            "Epoch 35/100\n",
            "\u001b[1m100/100\u001b[0m \u001b[32m━━━━━━━━━━━━━━━━━━━━\u001b[0m\u001b[37m\u001b[0m \u001b[1m2s\u001b[0m 16ms/step - loss: 0.0379 - mae: 0.0379 - val_loss: 0.0298 - val_mae: 0.0298 - learning_rate: 1.0000e-04\n",
            "Epoch 36/100\n",
            "\u001b[1m100/100\u001b[0m \u001b[32m━━━━━━━━━━━━━━━━━━━━\u001b[0m\u001b[37m\u001b[0m \u001b[1m2s\u001b[0m 16ms/step - loss: 0.0365 - mae: 0.0365 - val_loss: 0.0299 - val_mae: 0.0299 - learning_rate: 1.0000e-04\n",
            "Epoch 37/100\n",
            "\u001b[1m100/100\u001b[0m \u001b[32m━━━━━━━━━━━━━━━━━━━━\u001b[0m\u001b[37m\u001b[0m \u001b[1m3s\u001b[0m 16ms/step - loss: 0.0364 - mae: 0.0364 - val_loss: 0.0292 - val_mae: 0.0292 - learning_rate: 1.0000e-04\n",
            "Epoch 38/100\n",
            "\u001b[1m100/100\u001b[0m \u001b[32m━━━━━━━━━━━━━━━━━━━━\u001b[0m\u001b[37m\u001b[0m \u001b[1m2s\u001b[0m 16ms/step - loss: 0.0367 - mae: 0.0367 - val_loss: 0.0302 - val_mae: 0.0302 - learning_rate: 1.0000e-04\n",
            "Epoch 39/100\n",
            "\u001b[1m100/100\u001b[0m \u001b[32m━━━━━━━━━━━━━━━━━━━━\u001b[0m\u001b[37m\u001b[0m \u001b[1m2s\u001b[0m 16ms/step - loss: 0.0361 - mae: 0.0361 - val_loss: 0.0292 - val_mae: 0.0292 - learning_rate: 1.0000e-04\n",
            "Epoch 40/100\n",
            "\u001b[1m100/100\u001b[0m \u001b[32m━━━━━━━━━━━━━━━━━━━━\u001b[0m\u001b[37m\u001b[0m \u001b[1m2s\u001b[0m 21ms/step - loss: 0.0379 - mae: 0.0379 - val_loss: 0.0294 - val_mae: 0.0294 - learning_rate: 1.0000e-04\n",
            "Epoch 41/100\n",
            "\u001b[1m100/100\u001b[0m \u001b[32m━━━━━━━━━━━━━━━━━━━━\u001b[0m\u001b[37m\u001b[0m \u001b[1m2s\u001b[0m 17ms/step - loss: 0.0359 - mae: 0.0359 - val_loss: 0.0295 - val_mae: 0.0295 - learning_rate: 1.0000e-04\n",
            "Epoch 42/100\n",
            "\u001b[1m100/100\u001b[0m \u001b[32m━━━━━━━━━━━━━━━━━━━━\u001b[0m\u001b[37m\u001b[0m \u001b[1m2s\u001b[0m 16ms/step - loss: 0.0371 - mae: 0.0371 - val_loss: 0.0296 - val_mae: 0.0296 - learning_rate: 1.0000e-04\n",
            "Epoch 43/100\n",
            "\u001b[1m100/100\u001b[0m \u001b[32m━━━━━━━━━━━━━━━━━━━━\u001b[0m\u001b[37m\u001b[0m \u001b[1m3s\u001b[0m 16ms/step - loss: 0.0355 - mae: 0.0355 - val_loss: 0.0316 - val_mae: 0.0316 - learning_rate: 1.0000e-04\n"
          ]
        }
      ],
      "execution_count": 16
    },
    {
      "metadata": {
        "ExecuteTime": {
          "end_time": "2025-03-23T11:53:31.820710Z",
          "start_time": "2025-03-22T13:30:11.473092Z"
        },
        "colab": {
          "base_uri": "https://localhost:8080/"
        },
        "id": "8aac4e234d5663d0",
        "outputId": "b9903e96-117f-42bd-9550-00ec9b4e45e2"
      },
      "cell_type": "code",
      "source": [
        "y_pred = model.predict(X_test)"
      ],
      "id": "8aac4e234d5663d0",
      "outputs": [
        {
          "output_type": "stream",
          "name": "stdout",
          "text": [
            "\u001b[1m25/25\u001b[0m \u001b[32m━━━━━━━━━━━━━━━━━━━━\u001b[0m\u001b[37m\u001b[0m \u001b[1m1s\u001b[0m 21ms/step\n"
          ]
        }
      ],
      "execution_count": 17
    },
    {
      "metadata": {
        "ExecuteTime": {
          "end_time": "2025-03-23T11:53:31.821386Z",
          "start_time": "2025-03-22T13:30:11.496998Z"
        },
        "id": "5f8a2dd011e3e483"
      },
      "cell_type": "code",
      "source": [
        "y_test_actual = scaler_target.inverse_transform(y_test.reshape(-1, 1)).flatten()\n",
        "y_pred_actual = scaler_target.inverse_transform(y_pred).flatten()"
      ],
      "id": "5f8a2dd011e3e483",
      "outputs": [],
      "execution_count": 18
    },
    {
      "metadata": {
        "ExecuteTime": {
          "end_time": "2025-03-23T11:53:31.821778Z",
          "start_time": "2025-03-22T13:30:11.554633Z"
        },
        "colab": {
          "base_uri": "https://localhost:8080/",
          "height": 545
        },
        "id": "4465c19082f2ba32",
        "outputId": "c0af5b1e-5188-4bd5-d36a-e93764130c8f"
      },
      "cell_type": "code",
      "source": [
        "plt.figure(figsize=(12, 6))\n",
        "plt.plot(y_test_actual, label='Actual PM10')\n",
        "plt.plot(y_pred_actual, label='Predicted PM10')\n",
        "plt.legend()\n",
        "plt.title('PM10 Forecasting with Bi-LSTM')\n",
        "plt.show()"
      ],
      "id": "4465c19082f2ba32",
      "outputs": [
        {
          "output_type": "display_data",
          "data": {
            "text/plain": [
              "<Figure size 1200x600 with 1 Axes>"
            ],
            "image/png": "[encoded data removed]"
          },
          "metadata": {}
        }
      ],
      "execution_count": 19
    },
    {
      "metadata": {
        "colab": {
          "base_uri": "https://localhost:8080/"
        },
        "id": "324ba3be3a652c30",
        "outputId": "5bfdc139-75cf-4947-d51e-ea5e4025013d"
      },
      "cell_type": "code",
      "outputs": [
        {
          "output_type": "stream",
          "name": "stdout",
          "text": [
            "MAE: 5.322874069213867\n",
            "MSE: 61.96684265136719\n",
            "R2: 0.4437632451027115\n"
          ]
        }
      ],
      "execution_count": 20,
      "source": [
        "mae = mean_absolute_error(y_test_actual, y_pred_actual)\n",
        "print(f\"MAE: {mae}\")\n",
        "mse = mean_squared_error(y_test_actual, y_pred_actual)\n",
        "print(f\"MSE: {mse}\")\n",
        "r2 = r2_score(y_test_actual, y_pred_actual)\n",
        "print(f\"R2: {r2}\")"
      ],
      "id": "324ba3be3a652c30"
    }
  ],
  "metadata": {
    "kernelspec": {
      "display_name": "Python 3",
      "name": "python3"
    },
    "language_info": {
      "codemirror_mode": {
        "name": "ipython",
        "version": 2
      },
      "file_extension": ".py",
      "mimetype": "text/x-python",
      "name": "python",
      "nbconvert_exporter": "python",
      "pygments_lexer": "ipython2",
      "version": "2.7.6"
    },
    "colab": {
      "provenance": [],
      "gpuType": "T4",
      "cell_execution_strategy": "setup"
    },
    "accelerator": "GPU"
  },
  "nbformat": 4,
  "nbformat_minor": 5
}